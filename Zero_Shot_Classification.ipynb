{
  "cells": [
    {
      "cell_type": "markdown",
      "metadata": {
        "id": "view-in-github",
        "colab_type": "text"
      },
      "source": [
        "<a href=\"https://colab.research.google.com/github/kamat-v/HF_Transformers_Notebooks/blob/main/Zero_Shot_Classification.ipynb\" target=\"_parent\"><img src=\"https://colab.research.google.com/assets/colab-badge.svg\" alt=\"Open In Colab\"/></a>"
      ]
    },
    {
      "cell_type": "code",
      "execution_count": null,
      "metadata": {
        "id": "N1JHRMHOOG_u"
      },
      "outputs": [],
      "source": [
        "# https://www.kaggle.com/shivamkushwaha/bbc-full-text-document-classification\n",
        "!wget -nc https://lazyprogrammer.me/course_files/nlp/bbc_text_cls.csv"
      ]
    },
    {
      "cell_type": "code",
      "execution_count": null,
      "metadata": {
        "id": "3ymUci0SOK4x"
      },
      "outputs": [],
      "source": [
        "!pip install transformers"
      ]
    },
    {
      "cell_type": "code",
      "execution_count": 3,
      "metadata": {
        "id": "JtgihgoYOMQn"
      },
      "outputs": [],
      "source": [
        "from transformers import pipeline\n",
        "\n",
        "import numpy as np\n",
        "import pandas as pd\n",
        "import seaborn as sn\n",
        "import matplotlib.pyplot as plt\n",
        "import textwrap\n",
        "\n",
        "from sklearn.metrics import roc_auc_score, f1_score, confusion_matrix"
      ]
    },
    {
      "cell_type": "code",
      "source": [
        "classifier = pipeline(\"zero-shot-classification\", device=0)"
      ],
      "metadata": {
        "id": "6Ms8f2F9c2WN"
      },
      "execution_count": null,
      "outputs": []
    },
    {
      "cell_type": "code",
      "source": [
        "classifier(\"This is a course about the Transformers library\", candidate_labels=[\"education\", \"politics\", \"business\"])"
      ],
      "metadata": {
        "collapsed": true,
        "id": "eT9q_Rqpc2Yu"
      },
      "execution_count": null,
      "outputs": []
    },
    {
      "cell_type": "code",
      "execution_count": null,
      "metadata": {
        "id": "QfGTJpBCAabi"
      },
      "outputs": [],
      "source": [
        "# https://en.wikipedia.org/wiki/AMP-activated_protein_kinase\n",
        "text = \"Due to the presence of isoforms of its components, there are 12 \" + \\\n",
        "  \"versions of AMPK in mammals, each of which can have different tissue \" + \\\n",
        "  \"localizations, and different functions under different conditions. \" + \\\n",
        "  \"AMPK is regulated allosterically and by post-translational \" + \\\n",
        "  \"modification, which work together.\"\n",
        "classifier(text, candidate_labels=[\"biology\", \"math\", \"geology\"])"
      ]
    },
    {
      "cell_type": "code",
      "source": [
        "df=pd.read_csv('bbc_text_cls.csv')"
      ],
      "metadata": {
        "id": "HJgVZd0BdeDO"
      },
      "execution_count": 7,
      "outputs": []
    },
    {
      "cell_type": "code",
      "source": [
        "len(df)"
      ],
      "metadata": {
        "id": "VkAIuaJMdiZc"
      },
      "execution_count": null,
      "outputs": []
    },
    {
      "cell_type": "code",
      "source": [
        "df.sample(frac=1).head()"
      ],
      "metadata": {
        "id": "Lt9vTpU5dmrE"
      },
      "execution_count": null,
      "outputs": []
    },
    {
      "cell_type": "code",
      "source": [
        "labels=list(set(df['labels']))\n",
        "labels"
      ],
      "metadata": {
        "id": "LUMF-8vRdmtg"
      },
      "execution_count": null,
      "outputs": []
    },
    {
      "cell_type": "code",
      "source": [
        "print(textwrap.fill(df.iloc[1024]['text']))"
      ],
      "metadata": {
        "id": "YthQU6npdmv-"
      },
      "execution_count": null,
      "outputs": []
    },
    {
      "cell_type": "code",
      "source": [
        "df.iloc[1024]['labels']"
      ],
      "metadata": {
        "colab": {
          "base_uri": "https://localhost:8080/",
          "height": 35
        },
        "id": "AZW86G9pdmyP",
        "outputId": "0d3b5bad-ead9-4d2a-961c-e9c6651bbaf2"
      },
      "execution_count": 12,
      "outputs": [
        {
          "output_type": "execute_result",
          "data": {
            "text/plain": [
              "'politics'"
            ],
            "application/vnd.google.colaboratory.intrinsic+json": {
              "type": "string"
            }
          },
          "metadata": {},
          "execution_count": 12
        }
      ]
    },
    {
      "cell_type": "code",
      "source": [
        "classifier(df.iloc[1024]['text'], candidate_labels=labels)"
      ],
      "metadata": {
        "id": "uLhXRnmqdm1I"
      },
      "execution_count": null,
      "outputs": []
    },
    {
      "cell_type": "code",
      "source": [
        "preds=classifier(df['text'].tolist(), candidate_labels=labels)"
      ],
      "metadata": {
        "id": "lAgCkExygyGp"
      },
      "execution_count": 14,
      "outputs": []
    },
    {
      "cell_type": "code",
      "source": [
        "preds"
      ],
      "metadata": {
        "id": "mcy868GGnDlk"
      },
      "execution_count": null,
      "outputs": []
    },
    {
      "cell_type": "code",
      "source": [
        "predicted_labels=[d['labels'][0] for d in preds]"
      ],
      "metadata": {
        "id": "RzF7HYeJnDoG"
      },
      "execution_count": 16,
      "outputs": []
    },
    {
      "cell_type": "code",
      "source": [
        "df['predicted_labels']=predicted_labels"
      ],
      "metadata": {
        "id": "_oOJrNewnDqi"
      },
      "execution_count": 17,
      "outputs": []
    },
    {
      "cell_type": "code",
      "source": [
        "print(\"Acc:\", (df['labels']==df['predicted_labels']).mean())"
      ],
      "metadata": {
        "id": "C2NQtZhqnDtA"
      },
      "execution_count": null,
      "outputs": []
    },
    {
      "cell_type": "code",
      "source": [
        "#Convert prediction probabilities into NxK matrix according to original label order\n",
        "N=len(df)\n",
        "K=len(labels)\n",
        "label2idx={v:k for k,v in enumerate(labels)}\n",
        "\n",
        "probs=np.zeros((N,K))\n",
        "for i in range(N):\n",
        "  d=preds[i]\n",
        "  for label, score in zip(d['labels'], d['scores']):\n",
        "    k=label2idx[label]\n",
        "    probs[i,k]=score"
      ],
      "metadata": {
        "id": "qOMPanmKnDvd"
      },
      "execution_count": 19,
      "outputs": []
    },
    {
      "cell_type": "code",
      "source": [
        "int_labels=[label2idx[l] for l in df['labels']]"
      ],
      "metadata": {
        "id": "DKw_mIAZnDx9"
      },
      "execution_count": 20,
      "outputs": []
    },
    {
      "cell_type": "code",
      "source": [
        "int_preds=np.argmax(probs, axis=1)\n",
        "cm=confusion_matrix(int_labels, int_preds, normalize='true')"
      ],
      "metadata": {
        "id": "aF9qcCsfqWIA"
      },
      "execution_count": 22,
      "outputs": []
    },
    {
      "cell_type": "code",
      "execution_count": null,
      "metadata": {
        "id": "kJxCYlIGiujv"
      },
      "outputs": [],
      "source": [
        "# Scikit-Learn is transitioning to V1 but it's not available on Colab\n",
        "# The changes modify how confusion matrices are plotted\n",
        "def plot_cm(cm):\n",
        "  df_cm = pd.DataFrame(cm, index=labels, columns=labels)\n",
        "  ax = sn.heatmap(df_cm, annot=True, fmt='.2g')\n",
        "  ax.set_xlabel(\"Predicted\")\n",
        "  ax.set_ylabel(\"Target\")\n",
        "\n",
        "plot_cm(cm)"
      ]
    },
    {
      "cell_type": "code",
      "source": [
        "f1_score(int_labels, int_preds, average='macro')"
      ],
      "metadata": {
        "id": "S0acXBWCxiJL"
      },
      "execution_count": null,
      "outputs": []
    },
    {
      "cell_type": "code",
      "source": [
        "roc_auc_score(int_labels, probs, multi_class='ovo')"
      ],
      "metadata": {
        "id": "oaG3igwFxiQU"
      },
      "execution_count": null,
      "outputs": []
    },
    {
      "cell_type": "markdown",
      "source": [
        "![](https://deeplearningcourses.com/notebooks_v3_pxl?sc=8Jty5lhP77FmKx1Scgr7YA&n=Pipeline+Zero-Shot+Classification)"
      ],
      "metadata": {
        "id": "PFJd4PmsxjKb"
      }
    }
  ],
  "metadata": {
    "accelerator": "GPU",
    "colab": {
      "provenance": [],
      "include_colab_link": true
    },
    "kernelspec": {
      "display_name": "Python 3 (ipykernel)",
      "language": "python",
      "name": "python3"
    },
    "language_info": {
      "codemirror_mode": {
        "name": "ipython",
        "version": 3
      },
      "file_extension": ".py",
      "mimetype": "text/x-python",
      "name": "python",
      "nbconvert_exporter": "python",
      "pygments_lexer": "ipython3",
      "version": "3.10.12"
    },
    "sc": "8Jty5lhP77FmKx1Scgr7YA"
  },
  "nbformat": 4,
  "nbformat_minor": 0
}