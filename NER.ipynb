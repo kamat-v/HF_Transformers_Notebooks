{
  "cells": [
    {
      "cell_type": "markdown",
      "metadata": {
        "id": "view-in-github",
        "colab_type": "text"
      },
      "source": [
        "<a href=\"https://colab.research.google.com/github/kamat-v/HF_Transformers_Notebooks/blob/main/NER.ipynb\" target=\"_parent\"><img src=\"https://colab.research.google.com/assets/colab-badge.svg\" alt=\"Open In Colab\"/></a>"
      ]
    },
    {
      "cell_type": "code",
      "execution_count": null,
      "metadata": {
        "id": "PorB0a78U0jt"
      },
      "outputs": [],
      "source": [
        "!pip install transformers"
      ]
    },
    {
      "cell_type": "code",
      "source": [
        "from transformers import pipeline"
      ],
      "metadata": {
        "id": "68FCvEKsKzBZ"
      },
      "execution_count": 3,
      "outputs": []
    },
    {
      "cell_type": "code",
      "source": [
        "ner=pipeline(\"ner\",aggregation_strategy='simple',device=0)"
      ],
      "metadata": {
        "id": "0XJVVDMRKzL6"
      },
      "execution_count": null,
      "outputs": []
    },
    {
      "cell_type": "code",
      "source": [
        "import pickle"
      ],
      "metadata": {
        "id": "eYEp23UrLUD-"
      },
      "execution_count": 5,
      "outputs": []
    },
    {
      "cell_type": "code",
      "execution_count": null,
      "metadata": {
        "id": "JrbJL3MRVgO0"
      },
      "outputs": [],
      "source": [
        "# conll 2003\n",
        "!wget -nc https://lazyprogrammer.me/course_files/nlp/ner_train.pkl\n",
        "!wget -nc https://lazyprogrammer.me/course_files/nlp/ner_test.pkl"
      ]
    },
    {
      "cell_type": "code",
      "source": [
        "with open('ner_train.pkl','rb') as f:\n",
        "  corpus_train=pickle.load(f)\n",
        "with open('ner_test.pkl','rb') as f:\n",
        "  corpus_test=pickle.load(f)"
      ],
      "metadata": {
        "id": "-U0bjzxcLzcx"
      },
      "execution_count": 7,
      "outputs": []
    },
    {
      "cell_type": "code",
      "source": [
        "corpus_test[0]"
      ],
      "metadata": {
        "id": "O-treQgiLzgE"
      },
      "execution_count": null,
      "outputs": []
    },
    {
      "cell_type": "code",
      "source": [
        "inputs=[]\n",
        "targets=[]\n",
        "for sentence_tag_pairs in corpus_test:\n",
        "  tokens=[]\n",
        "  target=[]\n",
        "  for token,tag in sentence_tag_pairs:\n",
        "    tokens.append(token)\n",
        "    target.append(tag)\n",
        "  inputs.append(tokens)\n",
        "  targets.append(target)"
      ],
      "metadata": {
        "id": "M99fTYaiTaOU"
      },
      "execution_count": 21,
      "outputs": []
    },
    {
      "cell_type": "code",
      "source": [
        "inputs[9]"
      ],
      "metadata": {
        "id": "KyUiBNdFTaRB"
      },
      "execution_count": null,
      "outputs": []
    },
    {
      "cell_type": "code",
      "source": [
        "from nltk.tokenize.treebank import TreebankWordDetokenizer\n",
        "detokenizer=TreebankWordDetokenizer()"
      ],
      "metadata": {
        "id": "iRzzN0_OTaTi"
      },
      "execution_count": 23,
      "outputs": []
    },
    {
      "cell_type": "code",
      "source": [
        "detokenizer.detokenize(inputs[9])"
      ],
      "metadata": {
        "id": "ky3BcwOJVNNo"
      },
      "execution_count": null,
      "outputs": []
    },
    {
      "cell_type": "code",
      "source": [
        "targets[9]"
      ],
      "metadata": {
        "id": "zPVSTJd1VNV9"
      },
      "execution_count": null,
      "outputs": []
    },
    {
      "cell_type": "code",
      "source": [
        "ner(detokenizer.detokenize(inputs[9]))"
      ],
      "metadata": {
        "id": "tDvl1PydVNZE"
      },
      "execution_count": null,
      "outputs": []
    },
    {
      "cell_type": "code",
      "source": [
        "inputs[4]"
      ],
      "metadata": {
        "id": "YC0T7U5yWrOH"
      },
      "execution_count": null,
      "outputs": []
    },
    {
      "cell_type": "code",
      "source": [
        "ner(detokenizer.detokenize(inputs[4]))"
      ],
      "metadata": {
        "id": "fm_PgWxCW2w0"
      },
      "execution_count": null,
      "outputs": []
    }
  ],
  "metadata": {
    "accelerator": "GPU",
    "colab": {
      "provenance": [],
      "include_colab_link": true
    },
    "kernelspec": {
      "display_name": "Python 3 (ipykernel)",
      "language": "python",
      "name": "python3"
    },
    "language_info": {
      "codemirror_mode": {
        "name": "ipython",
        "version": 3
      },
      "file_extension": ".py",
      "mimetype": "text/x-python",
      "name": "python",
      "nbconvert_exporter": "python",
      "pygments_lexer": "ipython3",
      "version": "3.10.12"
    },
    "sc": "8Jty5lhP77FmKx1Scgr7YA"
  },
  "nbformat": 4,
  "nbformat_minor": 0
}