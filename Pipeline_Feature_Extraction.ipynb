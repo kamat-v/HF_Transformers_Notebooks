{
  "cells": [
    {
      "cell_type": "markdown",
      "metadata": {
        "id": "view-in-github",
        "colab_type": "text"
      },
      "source": [
        "<a href=\"https://colab.research.google.com/github/kamat-v/HF_Transformers_Notebooks/blob/main/Pipeline_Feature_Extraction.ipynb\" target=\"_parent\"><img src=\"https://colab.research.google.com/assets/colab-badge.svg\" alt=\"Open In Colab\"/></a>"
      ]
    },
    {
      "cell_type": "code",
      "execution_count": null,
      "metadata": {
        "id": "AvppEGXJxSn7",
        "collapsed": true
      },
      "outputs": [],
      "source": [
        "!wget -nc https://lazyprogrammer.me/course_files/nlp/abstracts_small.csv\n",
        "!wget -nc https://lazyprogrammer.me/course_files/nlp/bbc_text_cls.csv"
      ]
    },
    {
      "cell_type": "code",
      "execution_count": null,
      "metadata": {
        "id": "u_zJfzJixV_S",
        "collapsed": true
      },
      "outputs": [],
      "source": [
        "!pip install transformers"
      ]
    },
    {
      "cell_type": "code",
      "execution_count": 3,
      "metadata": {
        "id": "bCeWHctKC5PJ"
      },
      "outputs": [],
      "source": [
        "import numpy as np\n",
        "import pandas as pd\n",
        "from transformers import pipeline"
      ]
    },
    {
      "cell_type": "code",
      "source": [
        "featurizer = pipeline('feature-extraction', model='bert-base-uncased', device=0)"
      ],
      "metadata": {
        "id": "S0acXBWCxiJL",
        "collapsed": true
      },
      "execution_count": null,
      "outputs": []
    },
    {
      "cell_type": "code",
      "source": [
        "df=pd.read_csv('bbc_text_cls.csv')"
      ],
      "metadata": {
        "id": "oaG3igwFxiQU"
      },
      "execution_count": 5,
      "outputs": []
    },
    {
      "cell_type": "code",
      "source": [
        "df.head()"
      ],
      "metadata": {
        "id": "PzQJleyoxiWi",
        "colab": {
          "base_uri": "https://localhost:8080/",
          "height": 206
        },
        "outputId": "023b4a1c-aafc-409f-81cf-8c7688454512"
      },
      "execution_count": 6,
      "outputs": [
        {
          "output_type": "execute_result",
          "data": {
            "text/plain": [
              "                                                text    labels\n",
              "0  Ad sales boost Time Warner profit\\n\\nQuarterly...  business\n",
              "1  Dollar gains on Greenspan speech\\n\\nThe dollar...  business\n",
              "2  Yukos unit buyer faces loan claim\\n\\nThe owner...  business\n",
              "3  High fuel prices hit BA's profits\\n\\nBritish A...  business\n",
              "4  Pernod takeover talk lifts Domecq\\n\\nShares in...  business"
            ],
            "text/html": [
              "\n",
              "  <div id=\"df-c7ff20cb-ecfe-4427-bdf5-edb3a4139f49\" class=\"colab-df-container\">\n",
              "    <div>\n",
              "<style scoped>\n",
              "    .dataframe tbody tr th:only-of-type {\n",
              "        vertical-align: middle;\n",
              "    }\n",
              "\n",
              "    .dataframe tbody tr th {\n",
              "        vertical-align: top;\n",
              "    }\n",
              "\n",
              "    .dataframe thead th {\n",
              "        text-align: right;\n",
              "    }\n",
              "</style>\n",
              "<table border=\"1\" class=\"dataframe\">\n",
              "  <thead>\n",
              "    <tr style=\"text-align: right;\">\n",
              "      <th></th>\n",
              "      <th>text</th>\n",
              "      <th>labels</th>\n",
              "    </tr>\n",
              "  </thead>\n",
              "  <tbody>\n",
              "    <tr>\n",
              "      <th>0</th>\n",
              "      <td>Ad sales boost Time Warner profit\\n\\nQuarterly...</td>\n",
              "      <td>business</td>\n",
              "    </tr>\n",
              "    <tr>\n",
              "      <th>1</th>\n",
              "      <td>Dollar gains on Greenspan speech\\n\\nThe dollar...</td>\n",
              "      <td>business</td>\n",
              "    </tr>\n",
              "    <tr>\n",
              "      <th>2</th>\n",
              "      <td>Yukos unit buyer faces loan claim\\n\\nThe owner...</td>\n",
              "      <td>business</td>\n",
              "    </tr>\n",
              "    <tr>\n",
              "      <th>3</th>\n",
              "      <td>High fuel prices hit BA's profits\\n\\nBritish A...</td>\n",
              "      <td>business</td>\n",
              "    </tr>\n",
              "    <tr>\n",
              "      <th>4</th>\n",
              "      <td>Pernod takeover talk lifts Domecq\\n\\nShares in...</td>\n",
              "      <td>business</td>\n",
              "    </tr>\n",
              "  </tbody>\n",
              "</table>\n",
              "</div>\n",
              "    <div class=\"colab-df-buttons\">\n",
              "\n",
              "  <div class=\"colab-df-container\">\n",
              "    <button class=\"colab-df-convert\" onclick=\"convertToInteractive('df-c7ff20cb-ecfe-4427-bdf5-edb3a4139f49')\"\n",
              "            title=\"Convert this dataframe to an interactive table.\"\n",
              "            style=\"display:none;\">\n",
              "\n",
              "  <svg xmlns=\"http://www.w3.org/2000/svg\" height=\"24px\" viewBox=\"0 -960 960 960\">\n",
              "    <path d=\"M120-120v-720h720v720H120Zm60-500h600v-160H180v160Zm220 220h160v-160H400v160Zm0 220h160v-160H400v160ZM180-400h160v-160H180v160Zm440 0h160v-160H620v160ZM180-180h160v-160H180v160Zm440 0h160v-160H620v160Z\"/>\n",
              "  </svg>\n",
              "    </button>\n",
              "\n",
              "  <style>\n",
              "    .colab-df-container {\n",
              "      display:flex;\n",
              "      gap: 12px;\n",
              "    }\n",
              "\n",
              "    .colab-df-convert {\n",
              "      background-color: #E8F0FE;\n",
              "      border: none;\n",
              "      border-radius: 50%;\n",
              "      cursor: pointer;\n",
              "      display: none;\n",
              "      fill: #1967D2;\n",
              "      height: 32px;\n",
              "      padding: 0 0 0 0;\n",
              "      width: 32px;\n",
              "    }\n",
              "\n",
              "    .colab-df-convert:hover {\n",
              "      background-color: #E2EBFA;\n",
              "      box-shadow: 0px 1px 2px rgba(60, 64, 67, 0.3), 0px 1px 3px 1px rgba(60, 64, 67, 0.15);\n",
              "      fill: #174EA6;\n",
              "    }\n",
              "\n",
              "    .colab-df-buttons div {\n",
              "      margin-bottom: 4px;\n",
              "    }\n",
              "\n",
              "    [theme=dark] .colab-df-convert {\n",
              "      background-color: #3B4455;\n",
              "      fill: #D2E3FC;\n",
              "    }\n",
              "\n",
              "    [theme=dark] .colab-df-convert:hover {\n",
              "      background-color: #434B5C;\n",
              "      box-shadow: 0px 1px 3px 1px rgba(0, 0, 0, 0.15);\n",
              "      filter: drop-shadow(0px 1px 2px rgba(0, 0, 0, 0.3));\n",
              "      fill: #FFFFFF;\n",
              "    }\n",
              "  </style>\n",
              "\n",
              "    <script>\n",
              "      const buttonEl =\n",
              "        document.querySelector('#df-c7ff20cb-ecfe-4427-bdf5-edb3a4139f49 button.colab-df-convert');\n",
              "      buttonEl.style.display =\n",
              "        google.colab.kernel.accessAllowed ? 'block' : 'none';\n",
              "\n",
              "      async function convertToInteractive(key) {\n",
              "        const element = document.querySelector('#df-c7ff20cb-ecfe-4427-bdf5-edb3a4139f49');\n",
              "        const dataTable =\n",
              "          await google.colab.kernel.invokeFunction('convertToInteractive',\n",
              "                                                    [key], {});\n",
              "        if (!dataTable) return;\n",
              "\n",
              "        const docLinkHtml = 'Like what you see? Visit the ' +\n",
              "          '<a target=\"_blank\" href=https://colab.research.google.com/notebooks/data_table.ipynb>data table notebook</a>'\n",
              "          + ' to learn more about interactive tables.';\n",
              "        element.innerHTML = '';\n",
              "        dataTable['output_type'] = 'display_data';\n",
              "        await google.colab.output.renderOutput(dataTable, element);\n",
              "        const docLink = document.createElement('div');\n",
              "        docLink.innerHTML = docLinkHtml;\n",
              "        element.appendChild(docLink);\n",
              "      }\n",
              "    </script>\n",
              "  </div>\n",
              "\n",
              "\n",
              "    <div id=\"df-11108a34-cef2-4f01-8463-10f5b7a50acd\">\n",
              "      <button class=\"colab-df-quickchart\" onclick=\"quickchart('df-11108a34-cef2-4f01-8463-10f5b7a50acd')\"\n",
              "                title=\"Suggest charts\"\n",
              "                style=\"display:none;\">\n",
              "\n",
              "<svg xmlns=\"http://www.w3.org/2000/svg\" height=\"24px\"viewBox=\"0 0 24 24\"\n",
              "     width=\"24px\">\n",
              "    <g>\n",
              "        <path d=\"M19 3H5c-1.1 0-2 .9-2 2v14c0 1.1.9 2 2 2h14c1.1 0 2-.9 2-2V5c0-1.1-.9-2-2-2zM9 17H7v-7h2v7zm4 0h-2V7h2v10zm4 0h-2v-4h2v4z\"/>\n",
              "    </g>\n",
              "</svg>\n",
              "      </button>\n",
              "\n",
              "<style>\n",
              "  .colab-df-quickchart {\n",
              "      --bg-color: #E8F0FE;\n",
              "      --fill-color: #1967D2;\n",
              "      --hover-bg-color: #E2EBFA;\n",
              "      --hover-fill-color: #174EA6;\n",
              "      --disabled-fill-color: #AAA;\n",
              "      --disabled-bg-color: #DDD;\n",
              "  }\n",
              "\n",
              "  [theme=dark] .colab-df-quickchart {\n",
              "      --bg-color: #3B4455;\n",
              "      --fill-color: #D2E3FC;\n",
              "      --hover-bg-color: #434B5C;\n",
              "      --hover-fill-color: #FFFFFF;\n",
              "      --disabled-bg-color: #3B4455;\n",
              "      --disabled-fill-color: #666;\n",
              "  }\n",
              "\n",
              "  .colab-df-quickchart {\n",
              "    background-color: var(--bg-color);\n",
              "    border: none;\n",
              "    border-radius: 50%;\n",
              "    cursor: pointer;\n",
              "    display: none;\n",
              "    fill: var(--fill-color);\n",
              "    height: 32px;\n",
              "    padding: 0;\n",
              "    width: 32px;\n",
              "  }\n",
              "\n",
              "  .colab-df-quickchart:hover {\n",
              "    background-color: var(--hover-bg-color);\n",
              "    box-shadow: 0 1px 2px rgba(60, 64, 67, 0.3), 0 1px 3px 1px rgba(60, 64, 67, 0.15);\n",
              "    fill: var(--button-hover-fill-color);\n",
              "  }\n",
              "\n",
              "  .colab-df-quickchart-complete:disabled,\n",
              "  .colab-df-quickchart-complete:disabled:hover {\n",
              "    background-color: var(--disabled-bg-color);\n",
              "    fill: var(--disabled-fill-color);\n",
              "    box-shadow: none;\n",
              "  }\n",
              "\n",
              "  .colab-df-spinner {\n",
              "    border: 2px solid var(--fill-color);\n",
              "    border-color: transparent;\n",
              "    border-bottom-color: var(--fill-color);\n",
              "    animation:\n",
              "      spin 1s steps(1) infinite;\n",
              "  }\n",
              "\n",
              "  @keyframes spin {\n",
              "    0% {\n",
              "      border-color: transparent;\n",
              "      border-bottom-color: var(--fill-color);\n",
              "      border-left-color: var(--fill-color);\n",
              "    }\n",
              "    20% {\n",
              "      border-color: transparent;\n",
              "      border-left-color: var(--fill-color);\n",
              "      border-top-color: var(--fill-color);\n",
              "    }\n",
              "    30% {\n",
              "      border-color: transparent;\n",
              "      border-left-color: var(--fill-color);\n",
              "      border-top-color: var(--fill-color);\n",
              "      border-right-color: var(--fill-color);\n",
              "    }\n",
              "    40% {\n",
              "      border-color: transparent;\n",
              "      border-right-color: var(--fill-color);\n",
              "      border-top-color: var(--fill-color);\n",
              "    }\n",
              "    60% {\n",
              "      border-color: transparent;\n",
              "      border-right-color: var(--fill-color);\n",
              "    }\n",
              "    80% {\n",
              "      border-color: transparent;\n",
              "      border-right-color: var(--fill-color);\n",
              "      border-bottom-color: var(--fill-color);\n",
              "    }\n",
              "    90% {\n",
              "      border-color: transparent;\n",
              "      border-bottom-color: var(--fill-color);\n",
              "    }\n",
              "  }\n",
              "</style>\n",
              "\n",
              "      <script>\n",
              "        async function quickchart(key) {\n",
              "          const quickchartButtonEl =\n",
              "            document.querySelector('#' + key + ' button');\n",
              "          quickchartButtonEl.disabled = true;  // To prevent multiple clicks.\n",
              "          quickchartButtonEl.classList.add('colab-df-spinner');\n",
              "          try {\n",
              "            const charts = await google.colab.kernel.invokeFunction(\n",
              "                'suggestCharts', [key], {});\n",
              "          } catch (error) {\n",
              "            console.error('Error during call to suggestCharts:', error);\n",
              "          }\n",
              "          quickchartButtonEl.classList.remove('colab-df-spinner');\n",
              "          quickchartButtonEl.classList.add('colab-df-quickchart-complete');\n",
              "        }\n",
              "        (() => {\n",
              "          let quickchartButtonEl =\n",
              "            document.querySelector('#df-11108a34-cef2-4f01-8463-10f5b7a50acd button');\n",
              "          quickchartButtonEl.style.display =\n",
              "            google.colab.kernel.accessAllowed ? 'block' : 'none';\n",
              "        })();\n",
              "      </script>\n",
              "    </div>\n",
              "\n",
              "    </div>\n",
              "  </div>\n"
            ],
            "application/vnd.google.colaboratory.intrinsic+json": {
              "type": "dataframe",
              "variable_name": "df",
              "summary": "{\n  \"name\": \"df\",\n  \"rows\": 2225,\n  \"fields\": [\n    {\n      \"column\": \"text\",\n      \"properties\": {\n        \"dtype\": \"string\",\n        \"num_unique_values\": 2127,\n        \"samples\": [\n          \"EU 'too slow' on economic reforms\\n\\nMost EU countries have failed to put in place policies aimed at making Europe the world's most competitive economy by the end of the decade, a report says.\\n\\nThe study, undertaken by the European Commission, sought to assess how far the EU has moved towards meeting its economic targets. In 2000, EU leaders at a summit in Lisbon pledged the European economy would outstrip that of the US by 2010. Their economic targets became known as the Lisbon Agenda. But the Commission report says that, in most EU countries, the pace of economic reform has been too slow, and fulfilling the Lisbon ambitions will be difficult - if not impossible.\\n\\nOnly the UK, Finland, Belgium, Denmark, Ireland and the Netherlands have actually followed up policy recommendations. Among the biggest laggards, according to the report, are Greece and Italy. The Lisbon Agenda set out to increase the number of people employed in Europe by encouraging more older people and women to stay in the workforce. It also set out to raise the amount the private sector spends on research and development, while bringing about greater discipline over public spending and debt levels. Combined with high environmental standards and efforts to level the playing field for businesses throughout the EU, the plan was for Europe to become the world's most dynamic economy by 2010. Next week, the Commission will present revised proposals to meet the Lisbon goals. Many people expect the 2010 target to be quietly dropped.\",\n          \"BBC web search aids odd queries\\n\\nThe BBC's online search engine was used a record amount in 2004, helping with enquires both simple and strange.\\n\\nMore than 277 million enquiries were made, asking for informaton of a wide range of subjects. The most requested search terms of 2004 included games, EastEnders, CBBC, John Peel, Harry Potter and Olympics. But there were many strange enquiries, including: what is a dog?, how do you say basketball? and what is the biggest collection of naval fluff? The search engine works by matching key words typed in to different web pages but many people still type in natural language questions. Here are some of the strangest queries of 2004 - spelling and grammar errors left untouched - and their possible solutions:\\n\\n\\n - How to fold a serviette like an elf's boot? \\n \\n\\n\\n - How do I structure a French letter? \\n \\n\\n\\n - What is better one long vacation each year or several short vacations throughout the year? \\n \\n\\n\\n - What is so special about the Swiss? \\n \\n\\n\\n - What are the contemporary issue in nurses? \\n \\n\\n\\n - What is the number 4 in this number 40052308090? \\n \\n\\n\\n - What is up? \\n \\n\\n\\n - What is the name of James Martin's dog? \\n \\n\\nSearch engines are key to the way people use the internet. Companies such as Google have become of paramount importance as they dictate how people travel through websites while online.\",\n          \"Serena becomes world number two\\n\\nSerena Williams has moved up five places to second in the world rankings after her Australian Open win.\\n\\nWilliams won her first Grand Slam title since 2003 with victory over Lindsay Davenport, the world number one. Men's champion Marat Safin remains fourth in the ATP rankings while beaten finalist Lleyton Hewitt replaces Andy Roddick as world number two. Roger Federer retains top spot, but Safin has overtaken Hewitt to become the new leader of the Champions Race. Alicia Molik, who lost a three-set thriller against Davenport in the quarter-finals, is in the women's top 10 for the first time in her career. Her rise means Australia have a player in the top 10 of the men's and women's rankings for the first time in 21 years. And Britain's Elena Baltacha, who qualified and then reached the third round, has risen to 120 in the world - a leap of 65 places and her highest ranking yet.\"\n        ],\n        \"semantic_type\": \"\",\n        \"description\": \"\"\n      }\n    },\n    {\n      \"column\": \"labels\",\n      \"properties\": {\n        \"dtype\": \"category\",\n        \"num_unique_values\": 5,\n        \"samples\": [\n          \"entertainment\",\n          \"tech\",\n          \"politics\"\n        ],\n        \"semantic_type\": \"\",\n        \"description\": \"\"\n      }\n    }\n  ]\n}"
            }
          },
          "metadata": {},
          "execution_count": 6
        }
      ]
    },
    {
      "cell_type": "code",
      "source": [
        "df.shape"
      ],
      "metadata": {
        "colab": {
          "base_uri": "https://localhost:8080/"
        },
        "id": "iIAu-IThbQq6",
        "outputId": "f2f9ffcb-e385-417b-fbf2-2488796875f7"
      },
      "execution_count": 7,
      "outputs": [
        {
          "output_type": "execute_result",
          "data": {
            "text/plain": [
              "(2225, 2)"
            ]
          },
          "metadata": {},
          "execution_count": 7
        }
      ]
    },
    {
      "cell_type": "code",
      "source": [
        "result=featurizer(''.join(df.iloc[0].text.split()[:250]))"
      ],
      "metadata": {
        "id": "eK8dn69hbR7L"
      },
      "execution_count": 8,
      "outputs": []
    },
    {
      "cell_type": "code",
      "source": [
        "type(result)"
      ],
      "metadata": {
        "colab": {
          "base_uri": "https://localhost:8080/"
        },
        "id": "XrkAaznIbSAL",
        "outputId": "ea6a7458-c03e-4b64-fd21-c9e8a97c92b3"
      },
      "execution_count": 9,
      "outputs": [
        {
          "output_type": "execute_result",
          "data": {
            "text/plain": [
              "list"
            ]
          },
          "metadata": {},
          "execution_count": 9
        }
      ]
    },
    {
      "cell_type": "code",
      "source": [
        "len(result)"
      ],
      "metadata": {
        "colab": {
          "base_uri": "https://localhost:8080/"
        },
        "id": "JJP5Xh-5bSDT",
        "outputId": "81175dee-a011-411d-b1d9-1c95f43bb3df"
      },
      "execution_count": 10,
      "outputs": [
        {
          "output_type": "execute_result",
          "data": {
            "text/plain": [
              "1"
            ]
          },
          "metadata": {},
          "execution_count": 10
        }
      ]
    },
    {
      "cell_type": "code",
      "source": [
        "type(result[0])"
      ],
      "metadata": {
        "colab": {
          "base_uri": "https://localhost:8080/"
        },
        "id": "Rpu71UfVbSGS",
        "outputId": "54bff745-e56f-46da-a982-d806cfaa2918"
      },
      "execution_count": 11,
      "outputs": [
        {
          "output_type": "execute_result",
          "data": {
            "text/plain": [
              "list"
            ]
          },
          "metadata": {},
          "execution_count": 11
        }
      ]
    },
    {
      "cell_type": "code",
      "source": [
        "type(result[0][0])"
      ],
      "metadata": {
        "colab": {
          "base_uri": "https://localhost:8080/"
        },
        "id": "HmQRQuTkbSJV",
        "outputId": "6354d60a-9cf2-4121-fca8-208dbcc6a2db"
      },
      "execution_count": 12,
      "outputs": [
        {
          "output_type": "execute_result",
          "data": {
            "text/plain": [
              "list"
            ]
          },
          "metadata": {},
          "execution_count": 12
        }
      ]
    },
    {
      "cell_type": "code",
      "source": [
        "result[0][0][0]"
      ],
      "metadata": {
        "colab": {
          "base_uri": "https://localhost:8080/"
        },
        "id": "I7fsWyVBeRGF",
        "outputId": "edf2e827-dbd7-49f5-f20f-82e04620858b"
      },
      "execution_count": 13,
      "outputs": [
        {
          "output_type": "execute_result",
          "data": {
            "text/plain": [
              "-0.31610849499702454"
            ]
          },
          "metadata": {},
          "execution_count": 13
        }
      ]
    },
    {
      "cell_type": "code",
      "source": [
        "r_np=np.array(result)"
      ],
      "metadata": {
        "id": "1j4UY-ZMeRIf"
      },
      "execution_count": 14,
      "outputs": []
    },
    {
      "cell_type": "code",
      "source": [
        "r_np.shape"
      ],
      "metadata": {
        "colab": {
          "base_uri": "https://localhost:8080/"
        },
        "id": "wn_ToP7qeRLO",
        "outputId": "ae4981ad-a4e2-4392-ec57-7623d03d32fb"
      },
      "execution_count": 15,
      "outputs": [
        {
          "output_type": "execute_result",
          "data": {
            "text/plain": [
              "(1, 467, 768)"
            ]
          },
          "metadata": {},
          "execution_count": 15
        }
      ]
    },
    {
      "cell_type": "code",
      "source": [
        "results=featurizer([''.join(text.split()[:250]) for text in df.iloc[:5].text])"
      ],
      "metadata": {
        "id": "02Pz3J8CeRQ9"
      },
      "execution_count": 16,
      "outputs": []
    },
    {
      "cell_type": "code",
      "source": [
        "len(results)"
      ],
      "metadata": {
        "colab": {
          "base_uri": "https://localhost:8080/"
        },
        "id": "hZKN_D2zeRUu",
        "outputId": "8a6dd633-4ff7-45a8-8a96-6670b1d307db"
      },
      "execution_count": 17,
      "outputs": [
        {
          "output_type": "execute_result",
          "data": {
            "text/plain": [
              "5"
            ]
          },
          "metadata": {},
          "execution_count": 17
        }
      ]
    },
    {
      "cell_type": "code",
      "source": [
        "np.array(results[0]).shape"
      ],
      "metadata": {
        "colab": {
          "base_uri": "https://localhost:8080/"
        },
        "id": "hMwaIbJ9eRYI",
        "outputId": "5d15772f-7d8a-4671-a254-ccd0b4dac98c"
      },
      "execution_count": 18,
      "outputs": [
        {
          "output_type": "execute_result",
          "data": {
            "text/plain": [
              "(1, 467, 768)"
            ]
          },
          "metadata": {},
          "execution_count": 18
        }
      ]
    },
    {
      "cell_type": "code",
      "source": [
        "np.array(results[1]).shape"
      ],
      "metadata": {
        "colab": {
          "base_uri": "https://localhost:8080/"
        },
        "id": "6KIvq5_meRbc",
        "outputId": "56c2c684-3ca1-4c2a-b4e4-ab783cc07af3"
      },
      "execution_count": 19,
      "outputs": [
        {
          "output_type": "execute_result",
          "data": {
            "text/plain": [
              "(1, 370, 768)"
            ]
          },
          "metadata": {},
          "execution_count": 19
        }
      ]
    },
    {
      "cell_type": "code",
      "source": [
        "np.array(results[2]).shape"
      ],
      "metadata": {
        "colab": {
          "base_uri": "https://localhost:8080/"
        },
        "id": "pU5Vc0rFE9mX",
        "outputId": "1420d9e5-bad3-4624-9cba-6d0debe2ce3d"
      },
      "execution_count": 20,
      "outputs": [
        {
          "output_type": "execute_result",
          "data": {
            "text/plain": [
              "(1, 352, 768)"
            ]
          },
          "metadata": {},
          "execution_count": 20
        }
      ]
    },
    {
      "cell_type": "code",
      "source": [
        "len(df.iloc[0].text.split())"
      ],
      "metadata": {
        "colab": {
          "base_uri": "https://localhost:8080/"
        },
        "id": "wQmKXeAcE9os",
        "outputId": "e25e37b6-98b8-48d7-e761-bebd4870d6c7"
      },
      "execution_count": 21,
      "outputs": [
        {
          "output_type": "execute_result",
          "data": {
            "text/plain": [
              "421"
            ]
          },
          "metadata": {},
          "execution_count": 21
        }
      ]
    },
    {
      "cell_type": "code",
      "source": [
        "len(df.iloc[1].text.split())"
      ],
      "metadata": {
        "colab": {
          "base_uri": "https://localhost:8080/"
        },
        "id": "-nTmRxy7E9rk",
        "outputId": "86733d03-fc4f-4cae-c5f5-94c4a8aa3c0c"
      },
      "execution_count": 22,
      "outputs": [
        {
          "output_type": "execute_result",
          "data": {
            "text/plain": [
              "384"
            ]
          },
          "metadata": {},
          "execution_count": 22
        }
      ]
    },
    {
      "cell_type": "code",
      "source": [
        "len(df.iloc[2].text.split())"
      ],
      "metadata": {
        "colab": {
          "base_uri": "https://localhost:8080/"
        },
        "id": "S0uaKiTAE9uc",
        "outputId": "293e945e-fcbc-455e-b576-66d63c7a7363"
      },
      "execution_count": 23,
      "outputs": [
        {
          "output_type": "execute_result",
          "data": {
            "text/plain": [
              "264"
            ]
          },
          "metadata": {},
          "execution_count": 23
        }
      ]
    },
    {
      "cell_type": "code",
      "source": [
        "lens=[len(a.split()) for a in df.text]"
      ],
      "metadata": {
        "id": "z_tenZtXE9w2"
      },
      "execution_count": 24,
      "outputs": []
    },
    {
      "cell_type": "code",
      "source": [
        "lens"
      ],
      "metadata": {
        "colab": {
          "base_uri": "https://localhost:8080/"
        },
        "collapsed": true,
        "id": "08b5nn1KE9zE",
        "outputId": "ae5ae29a-9fbb-4ab7-e36a-e56ac6f7bb82"
      },
      "execution_count": 25,
      "outputs": [
        {
          "output_type": "execute_result",
          "data": {
            "text/plain": [
              "[421,\n",
              " 384,\n",
              " 264,\n",
              " 406,\n",
              " 265,\n",
              " 184,\n",
              " 284,\n",
              " 321,\n",
              " 229,\n",
              " 227,\n",
              " 185,\n",
              " 300,\n",
              " 299,\n",
              " 466,\n",
              " 606,\n",
              " 247,\n",
              " 213,\n",
              " 175,\n",
              " 270,\n",
              " 658,\n",
              " 350,\n",
              " 306,\n",
              " 208,\n",
              " 328,\n",
              " 455,\n",
              " 297,\n",
              " 274,\n",
              " 211,\n",
              " 403,\n",
              " 415,\n",
              " 304,\n",
              " 278,\n",
              " 226,\n",
              " 308,\n",
              " 199,\n",
              " 349,\n",
              " 419,\n",
              " 153,\n",
              " 210,\n",
              " 229,\n",
              " 328,\n",
              " 228,\n",
              " 193,\n",
              " 404,\n",
              " 311,\n",
              " 293,\n",
              " 274,\n",
              " 265,\n",
              " 617,\n",
              " 308,\n",
              " 295,\n",
              " 484,\n",
              " 236,\n",
              " 254,\n",
              " 365,\n",
              " 262,\n",
              " 440,\n",
              " 198,\n",
              " 294,\n",
              " 143,\n",
              " 266,\n",
              " 319,\n",
              " 289,\n",
              " 291,\n",
              " 355,\n",
              " 319,\n",
              " 294,\n",
              " 389,\n",
              " 536,\n",
              " 184,\n",
              " 206,\n",
              " 278,\n",
              " 253,\n",
              " 254,\n",
              " 214,\n",
              " 282,\n",
              " 443,\n",
              " 260,\n",
              " 250,\n",
              " 191,\n",
              " 265,\n",
              " 207,\n",
              " 534,\n",
              " 210,\n",
              " 228,\n",
              " 191,\n",
              " 294,\n",
              " 194,\n",
              " 376,\n",
              " 377,\n",
              " 314,\n",
              " 361,\n",
              " 315,\n",
              " 210,\n",
              " 264,\n",
              " 140,\n",
              " 444,\n",
              " 217,\n",
              " 430,\n",
              " 342,\n",
              " 352,\n",
              " 227,\n",
              " 478,\n",
              " 369,\n",
              " 227,\n",
              " 305,\n",
              " 295,\n",
              " 171,\n",
              " 149,\n",
              " 269,\n",
              " 527,\n",
              " 287,\n",
              " 370,\n",
              " 351,\n",
              " 203,\n",
              " 235,\n",
              " 420,\n",
              " 221,\n",
              " 456,\n",
              " 302,\n",
              " 520,\n",
              " 386,\n",
              " 191,\n",
              " 171,\n",
              " 242,\n",
              " 371,\n",
              " 481,\n",
              " 303,\n",
              " 162,\n",
              " 422,\n",
              " 446,\n",
              " 216,\n",
              " 281,\n",
              " 364,\n",
              " 404,\n",
              " 535,\n",
              " 219,\n",
              " 313,\n",
              " 307,\n",
              " 442,\n",
              " 260,\n",
              " 339,\n",
              " 263,\n",
              " 159,\n",
              " 252,\n",
              " 875,\n",
              " 209,\n",
              " 259,\n",
              " 595,\n",
              " 365,\n",
              " 287,\n",
              " 332,\n",
              " 400,\n",
              " 360,\n",
              " 268,\n",
              " 284,\n",
              " 271,\n",
              " 160,\n",
              " 634,\n",
              " 387,\n",
              " 366,\n",
              " 291,\n",
              " 441,\n",
              " 414,\n",
              " 363,\n",
              " 264,\n",
              " 213,\n",
              " 233,\n",
              " 172,\n",
              " 224,\n",
              " 217,\n",
              " 413,\n",
              " 365,\n",
              " 277,\n",
              " 209,\n",
              " 292,\n",
              " 346,\n",
              " 267,\n",
              " 219,\n",
              " 356,\n",
              " 471,\n",
              " 256,\n",
              " 823,\n",
              " 347,\n",
              " 304,\n",
              " 213,\n",
              " 305,\n",
              " 402,\n",
              " 424,\n",
              " 308,\n",
              " 487,\n",
              " 398,\n",
              " 297,\n",
              " 177,\n",
              " 435,\n",
              " 302,\n",
              " 270,\n",
              " 282,\n",
              " 336,\n",
              " 642,\n",
              " 280,\n",
              " 349,\n",
              " 285,\n",
              " 475,\n",
              " 272,\n",
              " 301,\n",
              " 345,\n",
              " 292,\n",
              " 481,\n",
              " 399,\n",
              " 236,\n",
              " 274,\n",
              " 427,\n",
              " 297,\n",
              " 520,\n",
              " 356,\n",
              " 498,\n",
              " 209,\n",
              " 264,\n",
              " 322,\n",
              " 322,\n",
              " 454,\n",
              " 263,\n",
              " 530,\n",
              " 225,\n",
              " 294,\n",
              " 191,\n",
              " 219,\n",
              " 453,\n",
              " 246,\n",
              " 309,\n",
              " 259,\n",
              " 167,\n",
              " 179,\n",
              " 212,\n",
              " 391,\n",
              " 179,\n",
              " 314,\n",
              " 239,\n",
              " 297,\n",
              " 773,\n",
              " 611,\n",
              " 883,\n",
              " 501,\n",
              " 809,\n",
              " 388,\n",
              " 267,\n",
              " 322,\n",
              " 604,\n",
              " 289,\n",
              " 300,\n",
              " 608,\n",
              " 284,\n",
              " 294,\n",
              " 173,\n",
              " 203,\n",
              " 430,\n",
              " 432,\n",
              " 224,\n",
              " 500,\n",
              " 732,\n",
              " 546,\n",
              " 320,\n",
              " 395,\n",
              " 294,\n",
              " 709,\n",
              " 192,\n",
              " 793,\n",
              " 414,\n",
              " 489,\n",
              " 473,\n",
              " 382,\n",
              " 504,\n",
              " 268,\n",
              " 286,\n",
              " 173,\n",
              " 859,\n",
              " 191,\n",
              " 425,\n",
              " 168,\n",
              " 207,\n",
              " 322,\n",
              " 156,\n",
              " 732,\n",
              " 251,\n",
              " 375,\n",
              " 891,\n",
              " 237,\n",
              " 324,\n",
              " 505,\n",
              " 429,\n",
              " 375,\n",
              " 386,\n",
              " 500,\n",
              " 318,\n",
              " 524,\n",
              " 286,\n",
              " 249,\n",
              " 488,\n",
              " 186,\n",
              " 185,\n",
              " 218,\n",
              " 327,\n",
              " 272,\n",
              " 246,\n",
              " 196,\n",
              " 444,\n",
              " 332,\n",
              " 222,\n",
              " 225,\n",
              " 206,\n",
              " 281,\n",
              " 272,\n",
              " 728,\n",
              " 273,\n",
              " 359,\n",
              " 374,\n",
              " 423,\n",
              " 313,\n",
              " 261,\n",
              " 147,\n",
              " 154,\n",
              " 461,\n",
              " 393,\n",
              " 269,\n",
              " 388,\n",
              " 305,\n",
              " 232,\n",
              " 340,\n",
              " 867,\n",
              " 277,\n",
              " 545,\n",
              " 294,\n",
              " 257,\n",
              " 291,\n",
              " 391,\n",
              " 334,\n",
              " 241,\n",
              " 291,\n",
              " 338,\n",
              " 253,\n",
              " 345,\n",
              " 149,\n",
              " 423,\n",
              " 430,\n",
              " 656,\n",
              " 244,\n",
              " 486,\n",
              " 355,\n",
              " 214,\n",
              " 211,\n",
              " 146,\n",
              " 891,\n",
              " 558,\n",
              " 178,\n",
              " 432,\n",
              " 273,\n",
              " 440,\n",
              " 359,\n",
              " 219,\n",
              " 244,\n",
              " 258,\n",
              " 255,\n",
              " 212,\n",
              " 191,\n",
              " 410,\n",
              " 328,\n",
              " 277,\n",
              " 176,\n",
              " 211,\n",
              " 203,\n",
              " 162,\n",
              " 167,\n",
              " 261,\n",
              " 287,\n",
              " 311,\n",
              " 143,\n",
              " 228,\n",
              " 213,\n",
              " 225,\n",
              " 233,\n",
              " 297,\n",
              " 308,\n",
              " 329,\n",
              " 187,\n",
              " 331,\n",
              " 345,\n",
              " 282,\n",
              " 278,\n",
              " 233,\n",
              " 364,\n",
              " 360,\n",
              " 336,\n",
              " 175,\n",
              " 259,\n",
              " 153,\n",
              " 323,\n",
              " 278,\n",
              " 559,\n",
              " 316,\n",
              " 297,\n",
              " 308,\n",
              " 373,\n",
              " 269,\n",
              " 492,\n",
              " 481,\n",
              " 253,\n",
              " 146,\n",
              " 647,\n",
              " 178,\n",
              " 258,\n",
              " 326,\n",
              " 456,\n",
              " 352,\n",
              " 401,\n",
              " 375,\n",
              " 268,\n",
              " 145,\n",
              " 236,\n",
              " 248,\n",
              " 367,\n",
              " 230,\n",
              " 255,\n",
              " 353,\n",
              " 237,\n",
              " 411,\n",
              " 302,\n",
              " 552,\n",
              " 286,\n",
              " 405,\n",
              " 162,\n",
              " 187,\n",
              " 174,\n",
              " 587,\n",
              " 425,\n",
              " 294,\n",
              " 440,\n",
              " 505,\n",
              " 222,\n",
              " 416,\n",
              " 324,\n",
              " 318,\n",
              " 202,\n",
              " 274,\n",
              " 367,\n",
              " 316,\n",
              " 224,\n",
              " 383,\n",
              " 491,\n",
              " 408,\n",
              " 282,\n",
              " 337,\n",
              " 317,\n",
              " 437,\n",
              " 386,\n",
              " 200,\n",
              " 377,\n",
              " 352,\n",
              " 360,\n",
              " 321,\n",
              " 306,\n",
              " 297,\n",
              " 165,\n",
              " 225,\n",
              " 208,\n",
              " 301,\n",
              " 207,\n",
              " 281,\n",
              " 330,\n",
              " 142,\n",
              " 482,\n",
              " 476,\n",
              " 155,\n",
              " 200,\n",
              " 287,\n",
              " 214,\n",
              " 250,\n",
              " 285,\n",
              " 367,\n",
              " 170,\n",
              " 351,\n",
              " 492,\n",
              " 184,\n",
              " 211,\n",
              " 250,\n",
              " 299,\n",
              " 707,\n",
              " 309,\n",
              " 279,\n",
              " 309,\n",
              " 349,\n",
              " 165,\n",
              " 375,\n",
              " 520,\n",
              " 503,\n",
              " 189,\n",
              " 293,\n",
              " 479,\n",
              " 235,\n",
              " 193,\n",
              " 551,\n",
              " 213,\n",
              " 210,\n",
              " 448,\n",
              " 247,\n",
              " 266,\n",
              " 468,\n",
              " 223,\n",
              " 428,\n",
              " 150,\n",
              " 190,\n",
              " 253,\n",
              " 192,\n",
              " 214,\n",
              " 179,\n",
              " 228,\n",
              " 359,\n",
              " 302,\n",
              " 335,\n",
              " 314,\n",
              " 218,\n",
              " 375,\n",
              " 480,\n",
              " 238,\n",
              " 259,\n",
              " 649,\n",
              " 252,\n",
              " 228,\n",
              " 152,\n",
              " 277,\n",
              " 454,\n",
              " 597,\n",
              " 289,\n",
              " 354,\n",
              " 299,\n",
              " 367,\n",
              " 298,\n",
              " 253,\n",
              " 299,\n",
              " 226,\n",
              " 259,\n",
              " 508,\n",
              " 334,\n",
              " 318,\n",
              " 262,\n",
              " 236,\n",
              " 259,\n",
              " 321,\n",
              " 385,\n",
              " 264,\n",
              " 213,\n",
              " 192,\n",
              " 378,\n",
              " 301,\n",
              " 233,\n",
              " 216,\n",
              " 232,\n",
              " 333,\n",
              " 274,\n",
              " 269,\n",
              " 334,\n",
              " 206,\n",
              " 264,\n",
              " 295,\n",
              " 292,\n",
              " 321,\n",
              " 242,\n",
              " 226,\n",
              " 282,\n",
              " 176,\n",
              " 752,\n",
              " 250,\n",
              " 318,\n",
              " 557,\n",
              " 156,\n",
              " 309,\n",
              " 252,\n",
              " 226,\n",
              " 334,\n",
              " 225,\n",
              " 287,\n",
              " 334,\n",
              " 207,\n",
              " 251,\n",
              " 347,\n",
              " 222,\n",
              " 335,\n",
              " 332,\n",
              " 214,\n",
              " 253,\n",
              " 317,\n",
              " 385,\n",
              " 156,\n",
              " 220,\n",
              " 394,\n",
              " 323,\n",
              " 174,\n",
              " 251,\n",
              " 158,\n",
              " 301,\n",
              " 193,\n",
              " 143,\n",
              " 218,\n",
              " 413,\n",
              " 533,\n",
              " 274,\n",
              " 309,\n",
              " 203,\n",
              " 230,\n",
              " 311,\n",
              " 304,\n",
              " 215,\n",
              " 389,\n",
              " 211,\n",
              " 254,\n",
              " 201,\n",
              " 191,\n",
              " 358,\n",
              " 250,\n",
              " 258,\n",
              " 239,\n",
              " 183,\n",
              " 239,\n",
              " 252,\n",
              " 270,\n",
              " 234,\n",
              " 283,\n",
              " 259,\n",
              " 237,\n",
              " 619,\n",
              " 306,\n",
              " 742,\n",
              " 263,\n",
              " 237,\n",
              " 242,\n",
              " 204,\n",
              " 389,\n",
              " 211,\n",
              " 252,\n",
              " 360,\n",
              " 1280,\n",
              " 419,\n",
              " 403,\n",
              " 225,\n",
              " 216,\n",
              " 233,\n",
              " 298,\n",
              " 306,\n",
              " 193,\n",
              " 229,\n",
              " 668,\n",
              " 560,\n",
              " 394,\n",
              " 196,\n",
              " 403,\n",
              " 271,\n",
              " 248,\n",
              " 432,\n",
              " 326,\n",
              " 189,\n",
              " 290,\n",
              " 289,\n",
              " 599,\n",
              " 200,\n",
              " 211,\n",
              " 250,\n",
              " 146,\n",
              " 306,\n",
              " 369,\n",
              " 206,\n",
              " 396,\n",
              " 232,\n",
              " 219,\n",
              " 195,\n",
              " 176,\n",
              " 291,\n",
              " 381,\n",
              " 319,\n",
              " 256,\n",
              " 179,\n",
              " 244,\n",
              " 229,\n",
              " 244,\n",
              " 193,\n",
              " 246,\n",
              " 249,\n",
              " 164,\n",
              " 234,\n",
              " 195,\n",
              " 218,\n",
              " 634,\n",
              " 399,\n",
              " 277,\n",
              " 402,\n",
              " 236,\n",
              " 164,\n",
              " 217,\n",
              " 221,\n",
              " 189,\n",
              " 349,\n",
              " 396,\n",
              " 276,\n",
              " 471,\n",
              " 232,\n",
              " 226,\n",
              " 263,\n",
              " 457,\n",
              " 177,\n",
              " 234,\n",
              " 179,\n",
              " 556,\n",
              " 411,\n",
              " 503,\n",
              " 245,\n",
              " 234,\n",
              " 289,\n",
              " 314,\n",
              " 234,\n",
              " 204,\n",
              " 249,\n",
              " 164,\n",
              " 251,\n",
              " 587,\n",
              " 471,\n",
              " 252,\n",
              " 195,\n",
              " 201,\n",
              " 252,\n",
              " 230,\n",
              " 271,\n",
              " 414,\n",
              " 174,\n",
              " 255,\n",
              " 231,\n",
              " 286,\n",
              " 288,\n",
              " 220,\n",
              " 335,\n",
              " 560,\n",
              " 193,\n",
              " 412,\n",
              " 202,\n",
              " 183,\n",
              " 314,\n",
              " 254,\n",
              " 567,\n",
              " 228,\n",
              " 261,\n",
              " 444,\n",
              " 250,\n",
              " 212,\n",
              " 201,\n",
              " 197,\n",
              " 664,\n",
              " 449,\n",
              " 201,\n",
              " 235,\n",
              " 467,\n",
              " 145,\n",
              " 232,\n",
              " 360,\n",
              " 224,\n",
              " 3482,\n",
              " 394,\n",
              " 525,\n",
              " 2347,\n",
              " 312,\n",
              " 350,\n",
              " 566,\n",
              " 186,\n",
              " 252,\n",
              " 838,\n",
              " 594,\n",
              " 578,\n",
              " 259,\n",
              " 184,\n",
              " 271,\n",
              " 384,\n",
              " 299,\n",
              " 202,\n",
              " 533,\n",
              " 192,\n",
              " 289,\n",
              " 171,\n",
              " 672,\n",
              " 358,\n",
              " 239,\n",
              " 245,\n",
              " 331,\n",
              " 806,\n",
              " 242,\n",
              " 449,\n",
              " 233,\n",
              " 549,\n",
              " 243,\n",
              " 230,\n",
              " 297,\n",
              " 363,\n",
              " 378,\n",
              " 183,\n",
              " 413,\n",
              " 295,\n",
              " 262,\n",
              " 372,\n",
              " 224,\n",
              " 280,\n",
              " 213,\n",
              " 269,\n",
              " 245,\n",
              " 500,\n",
              " 281,\n",
              " 178,\n",
              " 427,\n",
              " 241,\n",
              " 724,\n",
              " 591,\n",
              " 326,\n",
              " 226,\n",
              " 166,\n",
              " 179,\n",
              " 363,\n",
              " 291,\n",
              " 258,\n",
              " 1046,\n",
              " 296,\n",
              " 525,\n",
              " 175,\n",
              " 163,\n",
              " 337,\n",
              " 197,\n",
              " 376,\n",
              " 243,\n",
              " 511,\n",
              " 220,\n",
              " 453,\n",
              " 639,\n",
              " 304,\n",
              " 323,\n",
              " 241,\n",
              " 227,\n",
              " 206,\n",
              " 176,\n",
              " 285,\n",
              " 274,\n",
              " 274,\n",
              " 399,\n",
              " 236,\n",
              " 216,\n",
              " 226,\n",
              " 242,\n",
              " 215,\n",
              " 227,\n",
              " 175,\n",
              " 167,\n",
              " 226,\n",
              " 315,\n",
              " 384,\n",
              " 226,\n",
              " 246,\n",
              " 207,\n",
              " 319,\n",
              " 494,\n",
              " 2391,\n",
              " 601,\n",
              " 510,\n",
              " 378,\n",
              " 573,\n",
              " 470,\n",
              " 186,\n",
              " 264,\n",
              " 274,\n",
              " 299,\n",
              " 450,\n",
              " 201,\n",
              " 213,\n",
              " 322,\n",
              " 601,\n",
              " 998,\n",
              " 485,\n",
              " 250,\n",
              " 238,\n",
              " 632,\n",
              " 471,\n",
              " 224,\n",
              " 517,\n",
              " 322,\n",
              " 267,\n",
              " 393,\n",
              " 197,\n",
              " 196,\n",
              " 216,\n",
              " 234,\n",
              " 225,\n",
              " 273,\n",
              " 261,\n",
              " 268,\n",
              " 450,\n",
              " 379,\n",
              " 523,\n",
              " 252,\n",
              " 504,\n",
              " 347,\n",
              " 514,\n",
              " 536,\n",
              " 530,\n",
              " 194,\n",
              " 283,\n",
              " 428,\n",
              " 568,\n",
              " 473,\n",
              " 153,\n",
              " 236,\n",
              " 170,\n",
              " 258,\n",
              " 631,\n",
              " 554,\n",
              " 483,\n",
              " 431,\n",
              " 319,\n",
              " 258,\n",
              " 239,\n",
              " 260,\n",
              " 663,\n",
              " 248,\n",
              " 421,\n",
              " 360,\n",
              " 468,\n",
              " 345,\n",
              " 455,\n",
              " 441,\n",
              " 233,\n",
              " 406,\n",
              " 219,\n",
              " 317,\n",
              " 532,\n",
              " 578,\n",
              " 636,\n",
              " 528,\n",
              " 257,\n",
              " 219,\n",
              " 284,\n",
              " 439,\n",
              " 511,\n",
              " 529,\n",
              " 484,\n",
              " 689,\n",
              " 380,\n",
              " 428,\n",
              " 578,\n",
              " 250,\n",
              " 512,\n",
              " 489,\n",
              " 201,\n",
              " 402,\n",
              " 514,\n",
              " 455,\n",
              " 317,\n",
              " 568,\n",
              " 259,\n",
              " 315,\n",
              " 450,\n",
              " 532,\n",
              " 568,\n",
              " 547,\n",
              " 375,\n",
              " 527,\n",
              " 283,\n",
              " 531,\n",
              " 383,\n",
              " 201,\n",
              " 435,\n",
              " 402,\n",
              " 247,\n",
              " 641,\n",
              " 480,\n",
              " 495,\n",
              " 342,\n",
              " 517,\n",
              " 285,\n",
              " 258,\n",
              " 502,\n",
              " 404,\n",
              " 616,\n",
              " 564,\n",
              " 593,\n",
              " 264,\n",
              " 181,\n",
              " 412,\n",
              " 259,\n",
              " 511,\n",
              " 447,\n",
              " 379,\n",
              " 503,\n",
              " 355,\n",
              " 435,\n",
              " 615,\n",
              " 575,\n",
              " 474,\n",
              " 369,\n",
              " 472,\n",
              " ...]"
            ]
          },
          "metadata": {},
          "execution_count": 25
        }
      ]
    },
    {
      "cell_type": "code",
      "source": [
        "import matplotlib.pyplot as plt\n",
        "plt.hist(lens)\n",
        "np.max(lens)"
      ],
      "metadata": {
        "colab": {
          "base_uri": "https://localhost:8080/",
          "height": 447
        },
        "collapsed": true,
        "id": "krl4X8RSFtaJ",
        "outputId": "aaf59c21-ce65-493e-b992-b8fc6fe402d7"
      },
      "execution_count": 26,
      "outputs": [
        {
          "output_type": "execute_result",
          "data": {
            "text/plain": [
              "np.int64(4432)"
            ]
          },
          "metadata": {},
          "execution_count": 26
        },
        {
          "output_type": "display_data",
          "data": {
            "text/plain": [
              "<Figure size 640x480 with 1 Axes>"
            ],
            "image/png": "[encoded data removed]"
          },
          "metadata": {}
        }
      ]
    },
    {
      "cell_type": "code",
      "source": [
        "texts=[''.join(a.split()[:100]) for a in df.text]"
      ],
      "metadata": {
        "id": "VXuiYpGSGgv_"
      },
      "execution_count": 27,
      "outputs": []
    },
    {
      "cell_type": "code",
      "source": [
        "import torch\n",
        "torch.cuda.is_available()"
      ],
      "metadata": {
        "colab": {
          "base_uri": "https://localhost:8080/"
        },
        "id": "GGf9Z1MokmPQ",
        "outputId": "52f11fe8-8e06-4979-94b2-38000a66531b"
      },
      "execution_count": 28,
      "outputs": [
        {
          "output_type": "execute_result",
          "data": {
            "text/plain": [
              "True"
            ]
          },
          "metadata": {},
          "execution_count": 28
        }
      ]
    },
    {
      "cell_type": "code",
      "source": [
        "def batch_encode(texts, batch_size=32):\n",
        "    all_embeddings = []\n",
        "    for i in range(0, len(texts), batch_size):\n",
        "        batch = texts[i:i + batch_size]\n",
        "        outputs = featurizer(batch)  # list of [seq_len x hidden_dim]\n",
        "\n",
        "        # For each output (per text), get [CLS] token only (i.e., outputs[0][0])\n",
        "        batch_embeddings = [torch.tensor(out[0]).numpy() for out in outputs]\n",
        "        all_embeddings.extend(batch_embeddings)\n",
        "    return all_embeddings"
      ],
      "metadata": {
        "id": "HCzytwTfpXs_"
      },
      "execution_count": 29,
      "outputs": []
    },
    {
      "cell_type": "code",
      "source": [
        "embeddings = batch_encode(texts, batch_size=32)"
      ],
      "metadata": {
        "id": "zZ9FUywWGgzJ"
      },
      "execution_count": 42,
      "outputs": []
    },
    {
      "cell_type": "code",
      "source": [
        "embeds=[e[0] for e in embeddings]"
      ],
      "metadata": {
        "id": "KwMnYvYQuBvv"
      },
      "execution_count": 47,
      "outputs": []
    },
    {
      "cell_type": "code",
      "source": [
        "embed_array=np.array(embeds)"
      ],
      "metadata": {
        "id": "ByYbTFtXttWO"
      },
      "execution_count": 48,
      "outputs": []
    },
    {
      "cell_type": "code",
      "source": [
        "embed_array.shape"
      ],
      "metadata": {
        "colab": {
          "base_uri": "https://localhost:8080/"
        },
        "id": "yHTu-CwvttYr",
        "outputId": "edefe319-8d6d-42aa-cce8-89c011811e09"
      },
      "execution_count": 49,
      "outputs": [
        {
          "output_type": "execute_result",
          "data": {
            "text/plain": [
              "(2225, 768)"
            ]
          },
          "metadata": {},
          "execution_count": 49
        }
      ]
    },
    {
      "cell_type": "code",
      "source": [
        "from sklearn.neighbors import NearestNeighbors"
      ],
      "metadata": {
        "id": "LQWGrQXyGg7o"
      },
      "execution_count": 50,
      "outputs": []
    },
    {
      "cell_type": "code",
      "source": [
        "model=NearestNeighbors(metric='cosine')\n",
        "model.fit(embed_array)"
      ],
      "metadata": {
        "colab": {
          "base_uri": "https://localhost:8080/",
          "height": 80
        },
        "id": "dB2QesDZGg-J",
        "outputId": "07324731-7e8e-4050-cdd6-416fd646a4a7"
      },
      "execution_count": 51,
      "outputs": [
        {
          "output_type": "execute_result",
          "data": {
            "text/plain": [
              "NearestNeighbors(metric='cosine')"
            ],
            "text/html": [
              "<style>#sk-container-id-2 {\n",
              "  /* Definition of color scheme common for light and dark mode */\n",
              "  --sklearn-color-text: #000;\n",
              "  --sklearn-color-text-muted: #666;\n",
              "  --sklearn-color-line: gray;\n",
              "  /* Definition of color scheme for unfitted estimators */\n",
              "  --sklearn-color-unfitted-level-0: #fff5e6;\n",
              "  --sklearn-color-unfitted-level-1: #f6e4d2;\n",
              "  --sklearn-color-unfitted-level-2: #ffe0b3;\n",
              "  --sklearn-color-unfitted-level-3: chocolate;\n",
              "  /* Definition of color scheme for fitted estimators */\n",
              "  --sklearn-color-fitted-level-0: #f0f8ff;\n",
              "  --sklearn-color-fitted-level-1: #d4ebff;\n",
              "  --sklearn-color-fitted-level-2: #b3dbfd;\n",
              "  --sklearn-color-fitted-level-3: cornflowerblue;\n",
              "\n",
              "  /* Specific color for light theme */\n",
              "  --sklearn-color-text-on-default-background: var(--sg-text-color, var(--theme-code-foreground, var(--jp-content-font-color1, black)));\n",
              "  --sklearn-color-background: var(--sg-background-color, var(--theme-background, var(--jp-layout-color0, white)));\n",
              "  --sklearn-color-border-box: var(--sg-text-color, var(--theme-code-foreground, var(--jp-content-font-color1, black)));\n",
              "  --sklearn-color-icon: #696969;\n",
              "\n",
              "  @media (prefers-color-scheme: dark) {\n",
              "    /* Redefinition of color scheme for dark theme */\n",
              "    --sklearn-color-text-on-default-background: var(--sg-text-color, var(--theme-code-foreground, var(--jp-content-font-color1, white)));\n",
              "    --sklearn-color-background: var(--sg-background-color, var(--theme-background, var(--jp-layout-color0, #111)));\n",
              "    --sklearn-color-border-box: var(--sg-text-color, var(--theme-code-foreground, var(--jp-content-font-color1, white)));\n",
              "    --sklearn-color-icon: #878787;\n",
              "  }\n",
              "}\n",
              "\n",
              "#sk-container-id-2 {\n",
              "  color: var(--sklearn-color-text);\n",
              "}\n",
              "\n",
              "#sk-container-id-2 pre {\n",
              "  padding: 0;\n",
              "}\n",
              "\n",
              "#sk-container-id-2 input.sk-hidden--visually {\n",
              "  border: 0;\n",
              "  clip: rect(1px 1px 1px 1px);\n",
              "  clip: rect(1px, 1px, 1px, 1px);\n",
              "  height: 1px;\n",
              "  margin: -1px;\n",
              "  overflow: hidden;\n",
              "  padding: 0;\n",
              "  position: absolute;\n",
              "  width: 1px;\n",
              "}\n",
              "\n",
              "#sk-container-id-2 div.sk-dashed-wrapped {\n",
              "  border: 1px dashed var(--sklearn-color-line);\n",
              "  margin: 0 0.4em 0.5em 0.4em;\n",
              "  box-sizing: border-box;\n",
              "  padding-bottom: 0.4em;\n",
              "  background-color: var(--sklearn-color-background);\n",
              "}\n",
              "\n",
              "#sk-container-id-2 div.sk-container {\n",
              "  /* jupyter's `normalize.less` sets `[hidden] { display: none; }`\n",
              "     but bootstrap.min.css set `[hidden] { display: none !important; }`\n",
              "     so we also need the `!important` here to be able to override the\n",
              "     default hidden behavior on the sphinx rendered scikit-learn.org.\n",
              "     See: https://github.com/scikit-learn/scikit-learn/issues/21755 */\n",
              "  display: inline-block !important;\n",
              "  position: relative;\n",
              "}\n",
              "\n",
              "#sk-container-id-2 div.sk-text-repr-fallback {\n",
              "  display: none;\n",
              "}\n",
              "\n",
              "div.sk-parallel-item,\n",
              "div.sk-serial,\n",
              "div.sk-item {\n",
              "  /* draw centered vertical line to link estimators */\n",
              "  background-image: linear-gradient(var(--sklearn-color-text-on-default-background), var(--sklearn-color-text-on-default-background));\n",
              "  background-size: 2px 100%;\n",
              "  background-repeat: no-repeat;\n",
              "  background-position: center center;\n",
              "}\n",
              "\n",
              "/* Parallel-specific style estimator block */\n",
              "\n",
              "#sk-container-id-2 div.sk-parallel-item::after {\n",
              "  content: \"\";\n",
              "  width: 100%;\n",
              "  border-bottom: 2px solid var(--sklearn-color-text-on-default-background);\n",
              "  flex-grow: 1;\n",
              "}\n",
              "\n",
              "#sk-container-id-2 div.sk-parallel {\n",
              "  display: flex;\n",
              "  align-items: stretch;\n",
              "  justify-content: center;\n",
              "  background-color: var(--sklearn-color-background);\n",
              "  position: relative;\n",
              "}\n",
              "\n",
              "#sk-container-id-2 div.sk-parallel-item {\n",
              "  display: flex;\n",
              "  flex-direction: column;\n",
              "}\n",
              "\n",
              "#sk-container-id-2 div.sk-parallel-item:first-child::after {\n",
              "  align-self: flex-end;\n",
              "  width: 50%;\n",
              "}\n",
              "\n",
              "#sk-container-id-2 div.sk-parallel-item:last-child::after {\n",
              "  align-self: flex-start;\n",
              "  width: 50%;\n",
              "}\n",
              "\n",
              "#sk-container-id-2 div.sk-parallel-item:only-child::after {\n",
              "  width: 0;\n",
              "}\n",
              "\n",
              "/* Serial-specific style estimator block */\n",
              "\n",
              "#sk-container-id-2 div.sk-serial {\n",
              "  display: flex;\n",
              "  flex-direction: column;\n",
              "  align-items: center;\n",
              "  background-color: var(--sklearn-color-background);\n",
              "  padding-right: 1em;\n",
              "  padding-left: 1em;\n",
              "}\n",
              "\n",
              "\n",
              "/* Toggleable style: style used for estimator/Pipeline/ColumnTransformer box that is\n",
              "clickable and can be expanded/collapsed.\n",
              "- Pipeline and ColumnTransformer use this feature and define the default style\n",
              "- Estimators will overwrite some part of the style using the `sk-estimator` class\n",
              "*/\n",
              "\n",
              "/* Pipeline and ColumnTransformer style (default) */\n",
              "\n",
              "#sk-container-id-2 div.sk-toggleable {\n",
              "  /* Default theme specific background. It is overwritten whether we have a\n",
              "  specific estimator or a Pipeline/ColumnTransformer */\n",
              "  background-color: var(--sklearn-color-background);\n",
              "}\n",
              "\n",
              "/* Toggleable label */\n",
              "#sk-container-id-2 label.sk-toggleable__label {\n",
              "  cursor: pointer;\n",
              "  display: flex;\n",
              "  width: 100%;\n",
              "  margin-bottom: 0;\n",
              "  padding: 0.5em;\n",
              "  box-sizing: border-box;\n",
              "  text-align: center;\n",
              "  align-items: start;\n",
              "  justify-content: space-between;\n",
              "  gap: 0.5em;\n",
              "}\n",
              "\n",
              "#sk-container-id-2 label.sk-toggleable__label .caption {\n",
              "  font-size: 0.6rem;\n",
              "  font-weight: lighter;\n",
              "  color: var(--sklearn-color-text-muted);\n",
              "}\n",
              "\n",
              "#sk-container-id-2 label.sk-toggleable__label-arrow:before {\n",
              "  /* Arrow on the left of the label */\n",
              "  content: \"▸\";\n",
              "  float: left;\n",
              "  margin-right: 0.25em;\n",
              "  color: var(--sklearn-color-icon);\n",
              "}\n",
              "\n",
              "#sk-container-id-2 label.sk-toggleable__label-arrow:hover:before {\n",
              "  color: var(--sklearn-color-text);\n",
              "}\n",
              "\n",
              "/* Toggleable content - dropdown */\n",
              "\n",
              "#sk-container-id-2 div.sk-toggleable__content {\n",
              "  max-height: 0;\n",
              "  max-width: 0;\n",
              "  overflow: hidden;\n",
              "  text-align: left;\n",
              "  /* unfitted */\n",
              "  background-color: var(--sklearn-color-unfitted-level-0);\n",
              "}\n",
              "\n",
              "#sk-container-id-2 div.sk-toggleable__content.fitted {\n",
              "  /* fitted */\n",
              "  background-color: var(--sklearn-color-fitted-level-0);\n",
              "}\n",
              "\n",
              "#sk-container-id-2 div.sk-toggleable__content pre {\n",
              "  margin: 0.2em;\n",
              "  border-radius: 0.25em;\n",
              "  color: var(--sklearn-color-text);\n",
              "  /* unfitted */\n",
              "  background-color: var(--sklearn-color-unfitted-level-0);\n",
              "}\n",
              "\n",
              "#sk-container-id-2 div.sk-toggleable__content.fitted pre {\n",
              "  /* unfitted */\n",
              "  background-color: var(--sklearn-color-fitted-level-0);\n",
              "}\n",
              "\n",
              "#sk-container-id-2 input.sk-toggleable__control:checked~div.sk-toggleable__content {\n",
              "  /* Expand drop-down */\n",
              "  max-height: 200px;\n",
              "  max-width: 100%;\n",
              "  overflow: auto;\n",
              "}\n",
              "\n",
              "#sk-container-id-2 input.sk-toggleable__control:checked~label.sk-toggleable__label-arrow:before {\n",
              "  content: \"▾\";\n",
              "}\n",
              "\n",
              "/* Pipeline/ColumnTransformer-specific style */\n",
              "\n",
              "#sk-container-id-2 div.sk-label input.sk-toggleable__control:checked~label.sk-toggleable__label {\n",
              "  color: var(--sklearn-color-text);\n",
              "  background-color: var(--sklearn-color-unfitted-level-2);\n",
              "}\n",
              "\n",
              "#sk-container-id-2 div.sk-label.fitted input.sk-toggleable__control:checked~label.sk-toggleable__label {\n",
              "  background-color: var(--sklearn-color-fitted-level-2);\n",
              "}\n",
              "\n",
              "/* Estimator-specific style */\n",
              "\n",
              "/* Colorize estimator box */\n",
              "#sk-container-id-2 div.sk-estimator input.sk-toggleable__control:checked~label.sk-toggleable__label {\n",
              "  /* unfitted */\n",
              "  background-color: var(--sklearn-color-unfitted-level-2);\n",
              "}\n",
              "\n",
              "#sk-container-id-2 div.sk-estimator.fitted input.sk-toggleable__control:checked~label.sk-toggleable__label {\n",
              "  /* fitted */\n",
              "  background-color: var(--sklearn-color-fitted-level-2);\n",
              "}\n",
              "\n",
              "#sk-container-id-2 div.sk-label label.sk-toggleable__label,\n",
              "#sk-container-id-2 div.sk-label label {\n",
              "  /* The background is the default theme color */\n",
              "  color: var(--sklearn-color-text-on-default-background);\n",
              "}\n",
              "\n",
              "/* On hover, darken the color of the background */\n",
              "#sk-container-id-2 div.sk-label:hover label.sk-toggleable__label {\n",
              "  color: var(--sklearn-color-text);\n",
              "  background-color: var(--sklearn-color-unfitted-level-2);\n",
              "}\n",
              "\n",
              "/* Label box, darken color on hover, fitted */\n",
              "#sk-container-id-2 div.sk-label.fitted:hover label.sk-toggleable__label.fitted {\n",
              "  color: var(--sklearn-color-text);\n",
              "  background-color: var(--sklearn-color-fitted-level-2);\n",
              "}\n",
              "\n",
              "/* Estimator label */\n",
              "\n",
              "#sk-container-id-2 div.sk-label label {\n",
              "  font-family: monospace;\n",
              "  font-weight: bold;\n",
              "  display: inline-block;\n",
              "  line-height: 1.2em;\n",
              "}\n",
              "\n",
              "#sk-container-id-2 div.sk-label-container {\n",
              "  text-align: center;\n",
              "}\n",
              "\n",
              "/* Estimator-specific */\n",
              "#sk-container-id-2 div.sk-estimator {\n",
              "  font-family: monospace;\n",
              "  border: 1px dotted var(--sklearn-color-border-box);\n",
              "  border-radius: 0.25em;\n",
              "  box-sizing: border-box;\n",
              "  margin-bottom: 0.5em;\n",
              "  /* unfitted */\n",
              "  background-color: var(--sklearn-color-unfitted-level-0);\n",
              "}\n",
              "\n",
              "#sk-container-id-2 div.sk-estimator.fitted {\n",
              "  /* fitted */\n",
              "  background-color: var(--sklearn-color-fitted-level-0);\n",
              "}\n",
              "\n",
              "/* on hover */\n",
              "#sk-container-id-2 div.sk-estimator:hover {\n",
              "  /* unfitted */\n",
              "  background-color: var(--sklearn-color-unfitted-level-2);\n",
              "}\n",
              "\n",
              "#sk-container-id-2 div.sk-estimator.fitted:hover {\n",
              "  /* fitted */\n",
              "  background-color: var(--sklearn-color-fitted-level-2);\n",
              "}\n",
              "\n",
              "/* Specification for estimator info (e.g. \"i\" and \"?\") */\n",
              "\n",
              "/* Common style for \"i\" and \"?\" */\n",
              "\n",
              ".sk-estimator-doc-link,\n",
              "a:link.sk-estimator-doc-link,\n",
              "a:visited.sk-estimator-doc-link {\n",
              "  float: right;\n",
              "  font-size: smaller;\n",
              "  line-height: 1em;\n",
              "  font-family: monospace;\n",
              "  background-color: var(--sklearn-color-background);\n",
              "  border-radius: 1em;\n",
              "  height: 1em;\n",
              "  width: 1em;\n",
              "  text-decoration: none !important;\n",
              "  margin-left: 0.5em;\n",
              "  text-align: center;\n",
              "  /* unfitted */\n",
              "  border: var(--sklearn-color-unfitted-level-1) 1pt solid;\n",
              "  color: var(--sklearn-color-unfitted-level-1);\n",
              "}\n",
              "\n",
              ".sk-estimator-doc-link.fitted,\n",
              "a:link.sk-estimator-doc-link.fitted,\n",
              "a:visited.sk-estimator-doc-link.fitted {\n",
              "  /* fitted */\n",
              "  border: var(--sklearn-color-fitted-level-1) 1pt solid;\n",
              "  color: var(--sklearn-color-fitted-level-1);\n",
              "}\n",
              "\n",
              "/* On hover */\n",
              "div.sk-estimator:hover .sk-estimator-doc-link:hover,\n",
              ".sk-estimator-doc-link:hover,\n",
              "div.sk-label-container:hover .sk-estimator-doc-link:hover,\n",
              ".sk-estimator-doc-link:hover {\n",
              "  /* unfitted */\n",
              "  background-color: var(--sklearn-color-unfitted-level-3);\n",
              "  color: var(--sklearn-color-background);\n",
              "  text-decoration: none;\n",
              "}\n",
              "\n",
              "div.sk-estimator.fitted:hover .sk-estimator-doc-link.fitted:hover,\n",
              ".sk-estimator-doc-link.fitted:hover,\n",
              "div.sk-label-container:hover .sk-estimator-doc-link.fitted:hover,\n",
              ".sk-estimator-doc-link.fitted:hover {\n",
              "  /* fitted */\n",
              "  background-color: var(--sklearn-color-fitted-level-3);\n",
              "  color: var(--sklearn-color-background);\n",
              "  text-decoration: none;\n",
              "}\n",
              "\n",
              "/* Span, style for the box shown on hovering the info icon */\n",
              ".sk-estimator-doc-link span {\n",
              "  display: none;\n",
              "  z-index: 9999;\n",
              "  position: relative;\n",
              "  font-weight: normal;\n",
              "  right: .2ex;\n",
              "  padding: .5ex;\n",
              "  margin: .5ex;\n",
              "  width: min-content;\n",
              "  min-width: 20ex;\n",
              "  max-width: 50ex;\n",
              "  color: var(--sklearn-color-text);\n",
              "  box-shadow: 2pt 2pt 4pt #999;\n",
              "  /* unfitted */\n",
              "  background: var(--sklearn-color-unfitted-level-0);\n",
              "  border: .5pt solid var(--sklearn-color-unfitted-level-3);\n",
              "}\n",
              "\n",
              ".sk-estimator-doc-link.fitted span {\n",
              "  /* fitted */\n",
              "  background: var(--sklearn-color-fitted-level-0);\n",
              "  border: var(--sklearn-color-fitted-level-3);\n",
              "}\n",
              "\n",
              ".sk-estimator-doc-link:hover span {\n",
              "  display: block;\n",
              "}\n",
              "\n",
              "/* \"?\"-specific style due to the `<a>` HTML tag */\n",
              "\n",
              "#sk-container-id-2 a.estimator_doc_link {\n",
              "  float: right;\n",
              "  font-size: 1rem;\n",
              "  line-height: 1em;\n",
              "  font-family: monospace;\n",
              "  background-color: var(--sklearn-color-background);\n",
              "  border-radius: 1rem;\n",
              "  height: 1rem;\n",
              "  width: 1rem;\n",
              "  text-decoration: none;\n",
              "  /* unfitted */\n",
              "  color: var(--sklearn-color-unfitted-level-1);\n",
              "  border: var(--sklearn-color-unfitted-level-1) 1pt solid;\n",
              "}\n",
              "\n",
              "#sk-container-id-2 a.estimator_doc_link.fitted {\n",
              "  /* fitted */\n",
              "  border: var(--sklearn-color-fitted-level-1) 1pt solid;\n",
              "  color: var(--sklearn-color-fitted-level-1);\n",
              "}\n",
              "\n",
              "/* On hover */\n",
              "#sk-container-id-2 a.estimator_doc_link:hover {\n",
              "  /* unfitted */\n",
              "  background-color: var(--sklearn-color-unfitted-level-3);\n",
              "  color: var(--sklearn-color-background);\n",
              "  text-decoration: none;\n",
              "}\n",
              "\n",
              "#sk-container-id-2 a.estimator_doc_link.fitted:hover {\n",
              "  /* fitted */\n",
              "  background-color: var(--sklearn-color-fitted-level-3);\n",
              "}\n",
              "</style><div id=\"sk-container-id-2\" class=\"sk-top-container\"><div class=\"sk-text-repr-fallback\"><pre>NearestNeighbors(metric=&#x27;cosine&#x27;)</pre><b>In a Jupyter environment, please rerun this cell to show the HTML representation or trust the notebook. <br />On GitHub, the HTML representation is unable to render, please try loading this page with nbviewer.org.</b></div><div class=\"sk-container\" hidden><div class=\"sk-item\"><div class=\"sk-estimator fitted sk-toggleable\"><input class=\"sk-toggleable__control sk-hidden--visually\" id=\"sk-estimator-id-2\" type=\"checkbox\" checked><label for=\"sk-estimator-id-2\" class=\"sk-toggleable__label fitted sk-toggleable__label-arrow\"><div><div>NearestNeighbors</div></div><div><a class=\"sk-estimator-doc-link fitted\" rel=\"noreferrer\" target=\"_blank\" href=\"https://scikit-learn.org/1.6/modules/generated/sklearn.neighbors.NearestNeighbors.html\">?<span>Documentation for NearestNeighbors</span></a><span class=\"sk-estimator-doc-link fitted\">i<span>Fitted</span></span></div></label><div class=\"sk-toggleable__content fitted\"><pre>NearestNeighbors(metric=&#x27;cosine&#x27;)</pre></div> </div></div></div></div>"
            ]
          },
          "metadata": {},
          "execution_count": 51
        }
      ]
    },
    {
      "cell_type": "markdown",
      "source": [
        "![](https://deeplearningcourses.com/notebooks_v3_pxl?sc=8Jty5lhP77FmKx1Scgr7YA&n=Pipeline+Feature+Extraction)"
      ],
      "metadata": {
        "id": "PFJd4PmsxjKb"
      }
    },
    {
      "cell_type": "code",
      "source": [
        "distances, indices = model.kneighbors(embed_array[10].reshape(1,-1))"
      ],
      "metadata": {
        "id": "JEQOs0z1vlcp"
      },
      "execution_count": 56,
      "outputs": []
    },
    {
      "cell_type": "code",
      "source": [
        "distances"
      ],
      "metadata": {
        "colab": {
          "base_uri": "https://localhost:8080/"
        },
        "id": "icC7xY5UvpD3",
        "outputId": "f190c62a-f50f-4607-ff8a-29ab9f938201"
      },
      "execution_count": 57,
      "outputs": [
        {
          "output_type": "execute_result",
          "data": {
            "text/plain": [
              "array([[1.1920929e-07, 1.5981972e-02, 1.9973278e-02, 2.0853639e-02,\n",
              "        2.1100104e-02]], dtype=float32)"
            ]
          },
          "metadata": {},
          "execution_count": 57
        }
      ]
    },
    {
      "cell_type": "code",
      "source": [
        "indices"
      ],
      "metadata": {
        "colab": {
          "base_uri": "https://localhost:8080/"
        },
        "id": "dEfKOtRmvoqL",
        "outputId": "bbdebaf1-8040-4a95-88e0-660d1fc842cf"
      },
      "execution_count": 58,
      "outputs": [
        {
          "output_type": "execute_result",
          "data": {
            "text/plain": [
              "array([[  10,  875,  349,  241, 1481]])"
            ]
          },
          "metadata": {},
          "execution_count": 58
        }
      ]
    },
    {
      "cell_type": "code",
      "source": [
        "df.iloc[10].text"
      ],
      "metadata": {
        "colab": {
          "base_uri": "https://localhost:8080/",
          "height": 157
        },
        "id": "3ZQJiKc5v4fe",
        "outputId": "98e1f397-e282-4583-8d1c-5e4095a6ab90"
      },
      "execution_count": 59,
      "outputs": [
        {
          "output_type": "execute_result",
          "data": {
            "text/plain": [
              "\"Ask Jeeves tips online ad revival\\n\\nAsk Jeeves has become the third leading online search firm this week to thank a revival in internet advertising for improving fortunes.\\n\\nThe firm's revenue nearly tripled in the fourth quarter of 2004, exceeding $86m (£46m). Ask Jeeves, once among the best-known names on the web, is now a relatively modest player. Its $17m profit for the quarter was dwarfed by the $204m announced by rival Google earlier in the week. During the same quarter, Yahoo earned $187m, again tipping a resurgence in online advertising.\\n\\nThe trend has taken hold relatively quickly. Late last year, marketing company Doubleclick, one of the leading providers of online advertising, warned that some or all of its business would have to be put up for sale. But on Thursday, it announced that a sharp turnaround had brought about an unexpected increase in profits. Neither Ask Jeeves nor Doubleclick thrilled investors with their profit news, however. In both cases, their shares fell by some 4%. Analysts attributed the falls to excessive expectations in some quarters, fuelled by the dramatic outperformance of Google on Tuesday.\""
            ],
            "application/vnd.google.colaboratory.intrinsic+json": {
              "type": "string"
            }
          },
          "metadata": {},
          "execution_count": 59
        }
      ]
    },
    {
      "cell_type": "code",
      "source": [
        "df.iloc[10].labels"
      ],
      "metadata": {
        "colab": {
          "base_uri": "https://localhost:8080/",
          "height": 35
        },
        "id": "Mf7ZBAFjwBrq",
        "outputId": "ba06c7a1-1210-40af-dcaa-688472ecdeb1"
      },
      "execution_count": 61,
      "outputs": [
        {
          "output_type": "execute_result",
          "data": {
            "text/plain": [
              "'business'"
            ],
            "application/vnd.google.colaboratory.intrinsic+json": {
              "type": "string"
            }
          },
          "metadata": {},
          "execution_count": 61
        }
      ]
    },
    {
      "cell_type": "code",
      "source": [
        "df.iloc[0].text"
      ],
      "metadata": {
        "colab": {
          "base_uri": "https://localhost:8080/",
          "height": 139
        },
        "id": "tXp_cF5TwRsy",
        "outputId": "fcfbd96c-6ae7-4404-cc6b-99be469d472b"
      },
      "execution_count": 62,
      "outputs": [
        {
          "output_type": "execute_result",
          "data": {
            "text/plain": [
              "'Ad sales boost Time Warner profit\\n\\nQuarterly profits at US media giant TimeWarner jumped 76% to $1.13bn (£600m) for the three months to December, from $639m year-earlier.\\n\\nThe firm, which is now one of the biggest investors in Google, benefited from sales of high-speed internet connections and higher advert sales. TimeWarner said fourth quarter sales rose 2% to $11.1bn from $10.9bn. Its profits were buoyed by one-off gains which offset a profit dip at Warner Bros, and less users for AOL.\\n\\nTime Warner said on Friday that it now owns 8% of search-engine Google. But its own internet business, AOL, had has mixed fortunes. It lost 464,000 subscribers in the fourth quarter profits were lower than in the preceding three quarters. However, the company said AOL\\'s underlying profit before exceptional items rose 8% on the back of stronger internet advertising revenues. It hopes to increase subscribers by offering the online service free to TimeWarner internet customers and will try to sign up AOL\\'s existing customers for high-speed broadband. TimeWarner also has to restate 2000 and 2003 results following a probe by the US Securities Exchange Commission (SEC), which is close to concluding.\\n\\nTime Warner\\'s fourth quarter profits were slightly better than analysts\\' expectations. But its film division saw profits slump 27% to $284m, helped by box-office flops Alexander and Catwoman, a sharp contrast to year-earlier, when the third and final film in the Lord of the Rings trilogy boosted results. For the full-year, TimeWarner posted a profit of $3.36bn, up 27% from its 2003 performance, while revenues grew 6.4% to $42.09bn. \"Our financial performance was strong, meeting or exceeding all of our full-year objectives and greatly enhancing our flexibility,\" chairman and chief executive Richard Parsons said. For 2005, TimeWarner is projecting operating earnings growth of around 5%, and also expects higher revenue and wider profit margins.\\n\\nTimeWarner is to restate its accounts as part of efforts to resolve an inquiry into AOL by US market regulators. It has already offered to pay $300m to settle charges, in a deal that is under review by the SEC. The company said it was unable to estimate the amount it needed to set aside for legal reserves, which it previously set at $500m. It intends to adjust the way it accounts for a deal with German music publisher Bertelsmann\\'s purchase of a stake in AOL Europe, which it had reported as advertising revenue. It will now book the sale of its stake in AOL Europe as a loss on the value of that stake.'"
            ],
            "application/vnd.google.colaboratory.intrinsic+json": {
              "type": "string"
            }
          },
          "metadata": {},
          "execution_count": 62
        }
      ]
    },
    {
      "cell_type": "code",
      "source": [
        "df.iloc[273].text"
      ],
      "metadata": {
        "colab": {
          "base_uri": "https://localhost:8080/",
          "height": 139
        },
        "id": "uHz_dOZpwYlz",
        "outputId": "ab17b4ca-f639-4440-c5cb-167ea18a1769"
      },
      "execution_count": 63,
      "outputs": [
        {
          "output_type": "execute_result",
          "data": {
            "text/plain": [
              "\"Google shares fall as staff sell\\n\\nShares in Google have fallen 6.7% after employees and early investors in the web search took advantage of the first chance to sell their holdings.\\n\\nRestrictions were imposed ahead of its flotation in August, to prevent shares being dumped quickly onto the market. In one of the most closely-watched initial public offerings in stock market history, the US-based company sold 19.6 million shares at $85 each. Google shares have risen since but fell $12.33 on Tuesday to close at $172.55. The restriction - known as a lockup - is being eased piecemeal: in all, some 227 million additional shares will become free to trade by February 2005. Selling the shares could turn many of Google's workers into millionaires.\\n\\nThere were fears that the potential increase of shares in circulation from Tuesday would ease demand for stock. However, analysts say they expected most shareholders would be holding back from selling all their shares immediately, as Google's good performance and future growth potential means demand will hold.\\n\\nIn its first earnings report since floating on the stock market, Google said it made a net profit of $52m in the three months ending 30 September. Sales surged to $805.9m in the third quarter, up from $393.9m a year earlier. Google's main service - its internet search - is free to users, so the firm makes much of its money from selling advertising space linked to the words for which its users search. It also sells the use of its technology to companies who need to make either their websites, or their internal information systems, searchable.\""
            ],
            "application/vnd.google.colaboratory.intrinsic+json": {
              "type": "string"
            }
          },
          "metadata": {},
          "execution_count": 63
        }
      ]
    },
    {
      "cell_type": "code",
      "source": [
        "query=featurizer(\"TV and film\")"
      ],
      "metadata": {
        "id": "Y0Cv1y5zwpph"
      },
      "execution_count": 64,
      "outputs": []
    },
    {
      "cell_type": "code",
      "source": [
        "len(query)"
      ],
      "metadata": {
        "colab": {
          "base_uri": "https://localhost:8080/"
        },
        "id": "cKazBxWAww5g",
        "outputId": "9f65f93d-9e95-41f7-a9bb-eec6877e87e0"
      },
      "execution_count": 65,
      "outputs": [
        {
          "output_type": "execute_result",
          "data": {
            "text/plain": [
              "1"
            ]
          },
          "metadata": {},
          "execution_count": 65
        }
      ]
    },
    {
      "cell_type": "code",
      "source": [
        "len(query[0]),len(query[0][0])"
      ],
      "metadata": {
        "colab": {
          "base_uri": "https://localhost:8080/"
        },
        "id": "4JNOfEm4w1ZF",
        "outputId": "a8c47f37-3279-48e5-ff3b-82a01659f99a"
      },
      "execution_count": 67,
      "outputs": [
        {
          "output_type": "execute_result",
          "data": {
            "text/plain": [
              "(5, 768)"
            ]
          },
          "metadata": {},
          "execution_count": 67
        }
      ]
    },
    {
      "cell_type": "code",
      "source": [
        "distances, indices = model.kneighbors(np.array(query[0][0]).reshape(1,-1))"
      ],
      "metadata": {
        "id": "eqB-u8FDw9aS"
      },
      "execution_count": 69,
      "outputs": []
    },
    {
      "cell_type": "code",
      "source": [
        "distances, indices"
      ],
      "metadata": {
        "colab": {
          "base_uri": "https://localhost:8080/"
        },
        "id": "INdb415WxQBa",
        "outputId": "0cebe1e6-004a-4455-efde-1ec323dc4127"
      },
      "execution_count": 70,
      "outputs": [
        {
          "output_type": "execute_result",
          "data": {
            "text/plain": [
              "(array([[0.22829721, 0.23178653, 0.23508113, 0.23631721, 0.23634393]]),\n",
              " array([[1394, 1426,  695, 2027,  645]]))"
            ]
          },
          "metadata": {},
          "execution_count": 70
        }
      ]
    },
    {
      "cell_type": "code",
      "source": [
        "df.iloc[1394].text"
      ],
      "metadata": {
        "colab": {
          "base_uri": "https://localhost:8080/",
          "height": 139
        },
        "id": "ijG9rjFnxVoD",
        "outputId": "9e83c721-f2ff-4b74-f69a-7a6df8c4f951"
      },
      "execution_count": 77,
      "outputs": [
        {
          "output_type": "execute_result",
          "data": {
            "text/plain": [
              "'Greek duo cleared in doping case\\n\\nSprinters Kostas Kenteris and Katerina Thanou have been cleared of doping offences by an independent tribunal.\\n\\nThe duo had been provisionally suspended by the IAAF for allegedly missing three drugs tests, including one on the eve of the Athens Olympics. But the Greek Athletics Federation tribunal has overturned the bans - a decision which the IAAF can now contest at the Court of Arbitration for Sport. The pair\\'s former coach, Christos Tzekos, has been banned for four years. Kenteris, 31, and Thanou, 30, had been charged with avoiding drug tests in Tel Aviv, Chicago and Athens and failing to notify anti-doping officials of their whereabouts before the Olympics. They withdrew from the Olympics after missing a drugs test at the Olympic Village on 12 August.\\n\\nThe pair then spent four days in a hospital, claiming they had been injured in a motorcycle crash. It was the International Olympic Committee\\'s demand that the IAAF investigate the affair that led to the hearing of the Greek tribunal. The head of that tribunal, Kostas Panagopoulos, said it had not been proven that the athletes refused to take the test in Athens. \"The charge cannot be substantiated,\" he said. \"In no way was he (Kenteris) informed to appear for a doping test. The same goes for Thanou.\" Kenteris\\'s lawyer, Gregory Ioannidis, said: \"The decision means Mr Kenteris has been exonerated of highly damaging and unfounded charges which have been extremely harmful for his career.\\n\\n\"He has consistently maintained his innocence and this was substantiated by further evidence we were able to submit to the tribunal following its deliberations in January. \"This evidence shows Mr Kenteris was never asked to submit to a test by the International Olympic Committee so he could not possibly have been guilty of deliberately avoiding one. It shows he has no case to answer. \"Mr Kenteris should now be given the opportunity he deserves to rebuild his career in the full knowledge that there is no stain on his character. \"He has suffered greatly throughout this ordeal that has exposed both himself and his family to enormous pressures.\" But the IAAF said it was \"very surprised\" by the verdict. Spokesman Nick Davies said: \"We note the decision of the Greek authorities with interest. \"Our doping review board will now consider the English version of the decision.\"'"
            ],
            "application/vnd.google.colaboratory.intrinsic+json": {
              "type": "string"
            }
          },
          "metadata": {},
          "execution_count": 77
        }
      ]
    }
  ],
  "metadata": {
    "colab": {
      "provenance": [],
      "gpuType": "T4",
      "include_colab_link": true
    },
    "kernelspec": {
      "display_name": "Python 3",
      "name": "python3"
    },
    "language_info": {
      "codemirror_mode": {
        "name": "ipython",
        "version": 3
      },
      "file_extension": ".py",
      "mimetype": "text/x-python",
      "name": "python",
      "nbconvert_exporter": "python",
      "pygments_lexer": "ipython3",
      "version": "3.10.12"
    },
    "sc": "8Jty5lhP77FmKx1Scgr7YA",
    "accelerator": "GPU"
  },
  "nbformat": 4,
  "nbformat_minor": 0
}