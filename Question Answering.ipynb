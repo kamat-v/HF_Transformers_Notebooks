{
  "cells": [
    {
      "cell_type": "markdown",
      "metadata": {
        "id": "view-in-github",
        "colab_type": "text"
      },
      "source": [
        "<a href=\"https://colab.research.google.com/github/kamat-v/HF_Transformers_Notebooks/blob/main/Question%20Answering.ipynb\" target=\"_parent\"><img src=\"https://colab.research.google.com/assets/colab-badge.svg\" alt=\"Open In Colab\"/></a>"
      ]
    },
    {
      "cell_type": "code",
      "execution_count": null,
      "metadata": {
        "id": "Gv9NmNavL_CY"
      },
      "outputs": [],
      "source": [
        "!pip install transformers"
      ]
    },
    {
      "cell_type": "code",
      "execution_count": 2,
      "metadata": {
        "id": "JdvOV9dp_80Q"
      },
      "outputs": [],
      "source": [
        "from transformers import pipeline"
      ]
    },
    {
      "cell_type": "code",
      "source": [
        "qa=pipeline(\"question-answering\")"
      ],
      "metadata": {
        "id": "S0acXBWCxiJL"
      },
      "execution_count": null,
      "outputs": []
    },
    {
      "cell_type": "code",
      "source": [
        "context=\"Today I went to the store to purchase a carton of milk\"\n",
        "question=\"What did I buy?\""
      ],
      "metadata": {
        "id": "oaG3igwFxiQU"
      },
      "execution_count": 4,
      "outputs": []
    },
    {
      "cell_type": "code",
      "source": [
        "qa(context=context,question=question)"
      ],
      "metadata": {
        "id": "PzQJleyoxiWi"
      },
      "execution_count": null,
      "outputs": []
    },
    {
      "cell_type": "code",
      "source": [
        "context=\"Today I went to the store to purchase a carton of milk\"\n",
        "question=\"What did I do?\"\n",
        "qa(context=context,question=question)"
      ],
      "metadata": {
        "id": "_khR9c2vXzwz"
      },
      "execution_count": null,
      "outputs": []
    },
    {
      "cell_type": "code",
      "source": [
        "context=\"I am a mathematician and I'm interested in data science, machine learning and quantum computing\"\n",
        "question=\"What are my interests?\"\n",
        "qa(context=context,question=question)"
      ],
      "metadata": {
        "id": "g_rjy7VHX6qz"
      },
      "execution_count": null,
      "outputs": []
    },
    {
      "cell_type": "code",
      "source": [
        "question2=\"What is my profession?\"\n",
        "qa(context=context,question=question2)"
      ],
      "metadata": {
        "id": "bq1w_WP-Yv1x"
      },
      "execution_count": null,
      "outputs": []
    },
    {
      "cell_type": "code",
      "source": [
        "question3=\"What is one interest of mine that is not quantum computing?\"\n",
        "question4=\"What is one interest of mine that is not data science?\"\n",
        "qa(context=context,question=question3)"
      ],
      "metadata": {
        "id": "xtrOZlgcZBM1"
      },
      "execution_count": null,
      "outputs": []
    },
    {
      "cell_type": "code",
      "source": [
        "qa(context=context,question=question4)"
      ],
      "metadata": {
        "id": "kNt-4ckOZa5-"
      },
      "execution_count": null,
      "outputs": []
    },
    {
      "cell_type": "markdown",
      "source": [
        "![](https://deeplearningcourses.com/notebooks_v3_pxl?sc=8Jty5lhP77FmKx1Scgr7YA&n=Pipeline+Question+Answering)"
      ],
      "metadata": {
        "id": "PFJd4PmsxjKb"
      }
    }
  ],
  "metadata": {
    "colab": {
      "provenance": [],
      "include_colab_link": true
    },
    "kernelspec": {
      "display_name": "Python 3 (ipykernel)",
      "language": "python",
      "name": "python3"
    },
    "language_info": {
      "codemirror_mode": {
        "name": "ipython",
        "version": 3
      },
      "file_extension": ".py",
      "mimetype": "text/x-python",
      "name": "python",
      "nbconvert_exporter": "python",
      "pygments_lexer": "ipython3",
      "version": "3.10.12"
    },
    "sc": "8Jty5lhP77FmKx1Scgr7YA"
  },
  "nbformat": 4,
  "nbformat_minor": 0
}