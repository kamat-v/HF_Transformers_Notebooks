{
  "cells": [
    {
      "cell_type": "markdown",
      "metadata": {
        "id": "view-in-github",
        "colab_type": "text"
      },
      "source": [
        "<a href=\"https://colab.research.google.com/github/kamat-v/HF_Transformers_Notebooks/blob/main/Translation.ipynb\" target=\"_parent\"><img src=\"https://colab.research.google.com/assets/colab-badge.svg\" alt=\"Open In Colab\"/></a>"
      ]
    },
    {
      "cell_type": "code",
      "execution_count": null,
      "metadata": {
        "id": "vd5lzPXrJJP1"
      },
      "outputs": [],
      "source": [
        "!wget -nc http://storage.googleapis.com/download.tensorflow.org/data/spa-eng.zip"
      ]
    },
    {
      "cell_type": "code",
      "execution_count": null,
      "metadata": {
        "id": "E0yz-aZpLpky"
      },
      "outputs": [],
      "source": [
        "!unzip -nq spa-eng.zip"
      ]
    },
    {
      "cell_type": "code",
      "execution_count": null,
      "metadata": {
        "id": "Sj8v0pm-LsuA"
      },
      "outputs": [],
      "source": [
        "!ls"
      ]
    },
    {
      "cell_type": "code",
      "execution_count": null,
      "metadata": {
        "id": "jsIJuiOMLtsw"
      },
      "outputs": [],
      "source": [
        "ls spa-eng"
      ]
    },
    {
      "cell_type": "code",
      "execution_count": null,
      "metadata": {
        "id": "YmrRMbmALu8I"
      },
      "outputs": [],
      "source": [
        "!head spa-eng/spa.txt"
      ]
    },
    {
      "cell_type": "code",
      "source": [
        "eng2spa={}\n",
        "for line in open('spa-eng/spa.txt', encoding='utf-8'):\n",
        "  line=line.rstrip()\n",
        "  eng, spa = line.split('\\t')\n",
        "  if eng not in eng2spa:\n",
        "    eng2spa[eng]=[]\n",
        "  eng2spa[eng].append(spa)"
      ],
      "metadata": {
        "id": "HWhjEZX7l4nb"
      },
      "execution_count": 29,
      "outputs": []
    },
    {
      "cell_type": "code",
      "source": [
        "eng2spa"
      ],
      "metadata": {
        "id": "1ZuJdRXlmU4u"
      },
      "execution_count": null,
      "outputs": []
    },
    {
      "cell_type": "code",
      "execution_count": 10,
      "metadata": {
        "id": "_cRKjfHBMJMj"
      },
      "outputs": [],
      "source": [
        "from nltk.translate.bleu_score import sentence_bleu, SmoothingFunction"
      ]
    },
    {
      "cell_type": "code",
      "execution_count": 11,
      "metadata": {
        "id": "FLFkR2GFMchA"
      },
      "outputs": [],
      "source": [
        "from nltk.tokenize import RegexpTokenizer\n",
        "\n",
        "tokenizer = RegexpTokenizer(r'\\w+')\n",
        "smoother = SmoothingFunction()"
      ]
    },
    {
      "cell_type": "code",
      "execution_count": null,
      "metadata": {
        "id": "V2rjwaY9OzCy"
      },
      "outputs": [],
      "source": [
        "tokens = tokenizer.tokenize('¿Qué me cuentas?'.lower())\n",
        "sentence_bleu([tokens], tokens)"
      ]
    },
    {
      "cell_type": "code",
      "source": [
        "sentence_bleu([['hi']],['hi'])"
      ],
      "metadata": {
        "id": "2ue-Id7BnMEL"
      },
      "execution_count": null,
      "outputs": []
    },
    {
      "cell_type": "code",
      "execution_count": null,
      "metadata": {
        "id": "pBRWdLiLnnkt"
      },
      "outputs": [],
      "source": [
        "tokens = tokenizer.tokenize('¿Qué me cuentas?'.lower())\n",
        "sentence_bleu([tokens], tokens, smoothing_function=smoother.method4)"
      ]
    },
    {
      "cell_type": "code",
      "execution_count": null,
      "metadata": {
        "id": "BMHH-X1FP6IM"
      },
      "outputs": [],
      "source": [
        "sentence_bleu([['hi']], ['hi'])"
      ]
    },
    {
      "cell_type": "code",
      "source": [
        "eng2spa_tokens={}\n",
        "for eng, spa_list in eng2spa.items():\n",
        "  spa_list_tokens=[]\n",
        "  for text in spa_list:\n",
        "    tokens=tokenizer.tokenize(text.lower())\n",
        "    spa_list_tokens.append(tokens)\n",
        "  eng2spa_tokens[eng]=spa_list_tokens"
      ],
      "metadata": {
        "id": "0BEr0UxDqbAt"
      },
      "execution_count": 30,
      "outputs": []
    },
    {
      "cell_type": "code",
      "execution_count": null,
      "metadata": {
        "id": "nYOv_LkMZgiu"
      },
      "outputs": [],
      "source": [
        "!pip install transformers sentencepiece transformers[sentencepiece]"
      ]
    },
    {
      "cell_type": "code",
      "execution_count": null,
      "metadata": {
        "id": "mVCRvYpTZQ-U"
      },
      "outputs": [],
      "source": [
        "from transformers import pipeline\n",
        "translator = pipeline(\"translation\",\n",
        "                      model='Helsinki-NLP/opus-mt-en-es', device=0)"
      ]
    },
    {
      "cell_type": "code",
      "execution_count": null,
      "metadata": {
        "id": "KkC3SS4oy06Z"
      },
      "outputs": [],
      "source": [
        "translator(\"I like eggs and ham\")"
      ]
    },
    {
      "cell_type": "code",
      "execution_count": null,
      "metadata": {
        "id": "awjZY_aqjCXQ"
      },
      "outputs": [],
      "source": [
        "eng_phrases=list(eng2spa.keys())\n",
        "len(eng_phrases)"
      ]
    },
    {
      "cell_type": "code",
      "source": [
        "eng_phrases_subset=eng_phrases[20_000:20_005]"
      ],
      "metadata": {
        "id": "S0acXBWCxiJL"
      },
      "execution_count": 24,
      "outputs": []
    },
    {
      "cell_type": "code",
      "source": [
        "translations=translator(eng_phrases_subset)"
      ],
      "metadata": {
        "id": "oaG3igwFxiQU"
      },
      "execution_count": 25,
      "outputs": []
    },
    {
      "cell_type": "code",
      "source": [
        "translations[0]"
      ],
      "metadata": {
        "id": "PzQJleyoxiWi"
      },
      "execution_count": null,
      "outputs": []
    },
    {
      "cell_type": "code",
      "source": [
        "scores=[]\n",
        "for eng, pred in zip(eng_phrases_subset, translations):\n",
        "  matches=eng2spa_tokens[eng]\n",
        "  spa_pred=tokenizer.tokenize(pred['translation_text'].lower())\n",
        "  score=sentence_bleu(matches, spa_pred)\n",
        "  scores.append(score)"
      ],
      "metadata": {
        "id": "ocjtiWXQpPPa"
      },
      "execution_count": null,
      "outputs": []
    },
    {
      "cell_type": "code",
      "source": [
        "import matplotlib.pyplot as plt\n",
        "plt.hist(scores, bins=50)"
      ],
      "metadata": {
        "collapsed": true,
        "id": "bJzoL6gcq1i-"
      },
      "execution_count": null,
      "outputs": []
    },
    {
      "cell_type": "code",
      "source": [
        "import numpy as np\n",
        "np.mean(scores)"
      ],
      "metadata": {
        "colab": {
          "base_uri": "https://localhost:8080/"
        },
        "id": "1HPcnDubrRCx",
        "outputId": "5bb10d1e-0aca-4a7e-c43c-663532a1f1c4"
      },
      "execution_count": 33,
      "outputs": [
        {
          "output_type": "execute_result",
          "data": {
            "text/plain": [
              "np.float64(0.6)"
            ]
          },
          "metadata": {},
          "execution_count": 33
        }
      ]
    },
    {
      "cell_type": "code",
      "source": [
        "np.random.seed(1)\n",
        "\n",
        "def print_random_translation():\n",
        "  i=np.random.choice(len(eng_phrases_subset))\n",
        "  eng=eng_phrases_subset[i]\n",
        "  print(\"ENG:\", eng)\n",
        "\n",
        "  translation=translations[i]['translation_text']\n",
        "  print(\"ESP:\", translation)\n",
        "\n",
        "  matches=eng2spa[eng]\n",
        "  print(\"Matches:\", matches)"
      ],
      "metadata": {
        "id": "Gedsl5ZgrVtf"
      },
      "execution_count": 36,
      "outputs": []
    },
    {
      "cell_type": "code",
      "source": [
        "print_random_translation()"
      ],
      "metadata": {
        "id": "vTV1eAHpsDKq"
      },
      "execution_count": null,
      "outputs": []
    },
    {
      "cell_type": "code",
      "source": [
        "print_random_translation()"
      ],
      "metadata": {
        "id": "CmbwL5QesGEt"
      },
      "execution_count": null,
      "outputs": []
    },
    {
      "cell_type": "markdown",
      "source": [
        "![](https://deeplearningcourses.com/notebooks_v3_pxl?sc=8Jty5lhP77FmKx1Scgr7YA&n=Pipeline+Translation)"
      ],
      "metadata": {
        "id": "PFJd4PmsxjKb"
      }
    }
  ],
  "metadata": {
    "colab": {
      "provenance": [],
      "include_colab_link": true
    },
    "kernelspec": {
      "display_name": "Python 3 (ipykernel)",
      "language": "python",
      "name": "python3"
    },
    "language_info": {
      "codemirror_mode": {
        "name": "ipython",
        "version": 3
      },
      "file_extension": ".py",
      "mimetype": "text/x-python",
      "name": "python",
      "nbconvert_exporter": "python",
      "pygments_lexer": "ipython3",
      "version": "3.10.12"
    },
    "sc": "8Jty5lhP77FmKx1Scgr7YA"
  },
  "nbformat": 4,
  "nbformat_minor": 0
}