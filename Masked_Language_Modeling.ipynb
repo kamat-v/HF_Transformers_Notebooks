{
  "cells": [
    {
      "cell_type": "markdown",
      "metadata": {
        "id": "view-in-github",
        "colab_type": "text"
      },
      "source": [
        "<a href=\"https://colab.research.google.com/github/kamat-v/HF_Transformers_Notebooks/blob/main/Masked_Language_Modeling.ipynb\" target=\"_parent\"><img src=\"https://colab.research.google.com/assets/colab-badge.svg\" alt=\"Open In Colab\"/></a>"
      ]
    },
    {
      "cell_type": "code",
      "execution_count": null,
      "metadata": {
        "id": "akHGeAyFWbpF"
      },
      "outputs": [],
      "source": [
        "# https://www.kaggle.com/shivamkushwaha/bbc-full-text-document-classification\n",
        "!wget -nc https://lazyprogrammer.me/course_files/nlp/bbc_text_cls.csv"
      ]
    },
    {
      "cell_type": "code",
      "execution_count": null,
      "metadata": {
        "id": "oKuPiTlDWirr"
      },
      "outputs": [],
      "source": [
        "!pip install transformers"
      ]
    },
    {
      "cell_type": "code",
      "source": [
        "import numpy as np\n",
        "import pandas as pd\n",
        "import textwrap\n",
        "from pprint import pprint\n",
        "\n",
        "from transformers import pipeline"
      ],
      "metadata": {
        "id": "oeX1MtTFWv_U"
      },
      "execution_count": 3,
      "outputs": []
    },
    {
      "cell_type": "code",
      "source": [
        "df = pd.read_csv('bbc_text_cls.csv')"
      ],
      "metadata": {
        "id": "rhhrxQi0WwD3"
      },
      "execution_count": 4,
      "outputs": []
    },
    {
      "cell_type": "code",
      "source": [
        "df.head()"
      ],
      "metadata": {
        "id": "FQ226VagWwHX"
      },
      "execution_count": null,
      "outputs": []
    },
    {
      "cell_type": "code",
      "source": [
        "labels=set(df['labels'])\n",
        "labels"
      ],
      "metadata": {
        "id": "koU4NrUtWwKJ"
      },
      "execution_count": null,
      "outputs": []
    },
    {
      "cell_type": "code",
      "source": [
        "texts=df[df['labels']=='business']['text']\n",
        "texts.head()"
      ],
      "metadata": {
        "id": "S0acXBWCxiJL"
      },
      "execution_count": null,
      "outputs": []
    },
    {
      "cell_type": "code",
      "source": [
        "np.random.seed(1234)\n",
        "i=np.random.choice(texts.shape[0])\n",
        "doc=texts.iloc[i]\n",
        "pprint(textwrap.fill(doc,replace_whitespace=False,fix_sentence_endings=True))"
      ],
      "metadata": {
        "id": "oaG3igwFxiQU"
      },
      "execution_count": null,
      "outputs": []
    },
    {
      "cell_type": "code",
      "source": [
        "mlm=pipeline('fill-mask')"
      ],
      "metadata": {
        "id": "PzQJleyoxiWi"
      },
      "execution_count": null,
      "outputs": []
    },
    {
      "cell_type": "code",
      "source": [
        "text='Shares in train and plane-making ' + \\\n",
        "    'giant Bombardier have fallen to a 10-year <mask> following the departure ' + \\\n",
        "    'of its chief executive and two members of the board.'\n",
        "pprint(mlm(text))"
      ],
      "metadata": {
        "id": "bEEzTIUuYxsU"
      },
      "execution_count": null,
      "outputs": []
    },
    {
      "cell_type": "code",
      "source": [
        "from google.colab import files\n",
        "\n",
        "uploaded = files.upload()"
      ],
      "metadata": {
        "id": "4qZBzlG9bZfs"
      },
      "execution_count": null,
      "outputs": []
    },
    {
      "cell_type": "code",
      "source": [
        "def load_document(file_path):\n",
        "    with open(file_path, 'r', encoding='utf-8') as f:\n",
        "        text = f.read()\n",
        "    return text\n",
        "\n",
        "doc_text = load_document(\"New Text Document.txt\")\n",
        "print(doc_text[:500])"
      ],
      "metadata": {
        "id": "2aWA5XQHbTzY"
      },
      "execution_count": null,
      "outputs": []
    },
    {
      "cell_type": "markdown",
      "source": [
        "![](https://deeplearningcourses.com/notebooks_v3_pxl?sc=8Jty5lhP77FmKx1Scgr7YA&n=Pipeline+Masked+Language+Modeling)"
      ],
      "metadata": {
        "id": "PFJd4PmsxjKb"
      }
    },
    {
      "cell_type": "code",
      "source": [
        "text='Graph theory is a branch of mathematics focused on studying graphs, ' + \\\n",
        "     'which are mathematical structures used to represent relationships between objects'"
      ],
      "metadata": {
        "id": "gY68w4_wiZ5Z"
      },
      "execution_count": 56,
      "outputs": []
    },
    {
      "cell_type": "code",
      "source": [
        "from sklearn.feature_extraction.text import TfidfVectorizer"
      ],
      "metadata": {
        "id": "wVDLQz7sjOjF"
      },
      "execution_count": 57,
      "outputs": []
    },
    {
      "cell_type": "code",
      "source": [
        "import nltk\n",
        "nltk.download('punkt')\n",
        "\n",
        "from nltk.tokenize import sent_tokenize\n",
        "\n",
        "sentences = sent_tokenize(doc_text)\n",
        "\n",
        "vectorizer = TfidfVectorizer(stop_words='english')\n",
        "tfidf_matrix = vectorizer.fit_transform(sentences)\n",
        "\n",
        "feature_names = vectorizer.get_feature_names_out()\n",
        "\n",
        "# Average TF-IDF score per word across sentences\n",
        "average_scores = tfidf_matrix.mean(axis=0).A1  # convert matrix to flat array\n",
        "\n",
        "word_scores = dict(zip(feature_names, average_scores))\n",
        "\n",
        "# Sort and pick top 10\n",
        "top_words = sorted(word_scores, key=word_scores.get, reverse=True)[:10]\n",
        "print(\"Top 10 TF-IDF words:\", top_words)"
      ],
      "metadata": {
        "id": "gmqRXbEujKGB"
      },
      "execution_count": null,
      "outputs": []
    },
    {
      "cell_type": "code",
      "source": [
        "mlm = pipeline(\"fill-mask\", model=\"bert-base-uncased\")\n",
        "mask_token = mlm.tokenizer.mask_token\n",
        "\n",
        "def mask_first_occurrence(text, word, mask_token):\n",
        "    pattern = re.compile(r'\\b' + re.escape(word) + r'\\b', re.IGNORECASE)\n",
        "    return pattern.sub(mask_token, text, count=1)"
      ],
      "metadata": {
        "id": "7RinouDxjbC8"
      },
      "execution_count": null,
      "outputs": []
    },
    {
      "cell_type": "code",
      "source": [
        "def sample_from_fill_mask_results(results):\n",
        "    tokens = [r['token_str'] for r in results]\n",
        "    scores = np.array([r['score'] for r in results])\n",
        "    probs = scores / scores.sum()\n",
        "    return np.random.choice(tokens, p=probs)\n",
        "\n",
        "modified_text = doc_text\n",
        "\n",
        "for word in top_words:\n",
        "    # Mask one occurrence of the current word\n",
        "    masked_text = mask_first_occurrence(modified_text, word, mask_token)\n",
        "\n",
        "    # Check mask token presence\n",
        "    if masked_text.count(mask_token) != 1:\n",
        "        print(f\"Skipping '{word}': no single occurrence found.\")\n",
        "        continue\n",
        "\n",
        "    # Get predictions\n",
        "    results = mlm(masked_text)\n",
        "\n",
        "    # Sample a replacement token\n",
        "    replacement = sample_from_fill_mask_results(results)\n",
        "\n",
        "    print(f\"Replacing '{word}' with '{replacement}'\")\n",
        "\n",
        "    # Replace the masked token with the chosen replacement\n",
        "    modified_text = masked_text.replace(mask_token, replacement, 1)"
      ],
      "metadata": {
        "id": "zbQUAaNZjnRm"
      },
      "execution_count": null,
      "outputs": []
    },
    {
      "cell_type": "code",
      "source": [
        "output_file = \"modified_text.txt\"\n",
        "with open(output_file, 'w', encoding='utf-8') as f:\n",
        "    f.write(modified_text)\n",
        "\n",
        "print(f\"Modified text saved to {output_file}\")"
      ],
      "metadata": {
        "id": "OpefXcRJjuux"
      },
      "execution_count": null,
      "outputs": []
    },
    {
      "cell_type": "code",
      "source": [
        "with open(\"modified_text.txt\", \"r\", encoding=\"utf-8\") as f:\n",
        "    modified_content = f.read()\n",
        "\n",
        "print(modified_content)"
      ],
      "metadata": {
        "id": "2k2NcJ_Rj6o-"
      },
      "execution_count": null,
      "outputs": []
    }
  ],
  "metadata": {
    "colab": {
      "provenance": [],
      "include_colab_link": true
    },
    "kernelspec": {
      "display_name": "Python 3 (ipykernel)",
      "language": "python",
      "name": "python3"
    },
    "language_info": {
      "codemirror_mode": {
        "name": "ipython",
        "version": 3
      },
      "file_extension": ".py",
      "mimetype": "text/x-python",
      "name": "python",
      "nbconvert_exporter": "python",
      "pygments_lexer": "ipython3",
      "version": "3.10.12"
    },
    "sc": "8Jty5lhP77FmKx1Scgr7YA"
  },
  "nbformat": 4,
  "nbformat_minor": 0
}